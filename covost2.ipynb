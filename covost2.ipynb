{
 "cells": [
  {
   "cell_type": "code",
   "execution_count": 1,
   "id": "9e593c1f-d466-4ea5-839c-8ec380a748d8",
   "metadata": {},
   "outputs": [],
   "source": [
    "from datasets import load_dataset, Dataset, Audio, DatasetDict\n",
    "import pandas as pd\n",
    "from tqdm import tqdm\n",
    "from librosa import load, get_duration\n",
    "from tqdm.notebook import tqdm\n"
   ]
  },
  {
   "cell_type": "code",
   "execution_count": 8,
   "id": "1df3a03e-a128-490b-b134-df5505caf727",
   "metadata": {
    "scrolled": true
   },
   "outputs": [
    {
     "data": {
      "application/vnd.jupyter.widget-view+json": {
       "model_id": "78541f1278474ec58c795b720dd66226",
       "version_major": 2,
       "version_minor": 0
      },
      "text/plain": [
       "Downloading data:   0%|          | 0.00/51.8k [00:00<?, ?B/s]"
      ]
     },
     "metadata": {},
     "output_type": "display_data"
    },
    {
     "data": {
      "application/vnd.jupyter.widget-view+json": {
       "model_id": "ee1cbf9db6a244a391816719cbce8fd4",
       "version_major": 2,
       "version_minor": 0
      },
      "text/plain": [
       "Generating train split:   0%|          | 0/1243 [00:00<?, ? examples/s]"
      ]
     },
     "metadata": {},
     "output_type": "display_data"
    },
    {
     "data": {
      "application/vnd.jupyter.widget-view+json": {
       "model_id": "1d9a207f372b4fe1b90f8089afcb4cdb",
       "version_major": 2,
       "version_minor": 0
      },
      "text/plain": [
       "Generating validation split:   0%|          | 0/792 [00:00<?, ? examples/s]"
      ]
     },
     "metadata": {},
     "output_type": "display_data"
    },
    {
     "data": {
      "application/vnd.jupyter.widget-view+json": {
       "model_id": "3a7ce08e7545486686abe80c276e9aa8",
       "version_major": 2,
       "version_minor": 0
      },
      "text/plain": [
       "Generating test split:   0%|          | 0/844 [00:00<?, ? examples/s]"
      ]
     },
     "metadata": {},
     "output_type": "display_data"
    }
   ],
   "source": [
    "covost2_dataset = load_dataset(\"facebook/covost2\", \"id_en\",\n",
    "                  data_dir=\"covost2_id_en/id\",  \n",
    "                  split=\"train+validation+test\",\n",
    "                  trust_remote_code=True\n",
    "                )"
   ]
  },
  {
   "cell_type": "code",
   "execution_count": 11,
   "id": "60a10adc-74bd-4122-8aa2-e7cb4a6c357a",
   "metadata": {
    "scrolled": true
   },
   "outputs": [
    {
     "data": {
      "text/plain": [
       "Dataset({\n",
       "    features: ['client_id', 'file', 'audio', 'sentence', 'translation', 'id'],\n",
       "    num_rows: 2879\n",
       "})"
      ]
     },
     "execution_count": 11,
     "metadata": {},
     "output_type": "execute_result"
    }
   ],
   "source": [
    "covost2_dataset"
   ]
  },
  {
   "cell_type": "code",
   "execution_count": 14,
   "id": "ab314087-cce8-49f1-ae23-7f25db613587",
   "metadata": {
    "scrolled": true
   },
   "outputs": [
    {
     "data": {
      "text/plain": [
       "{'client_id': 'e4a9f157112dd7dbdf0b16ff07a6c067d193440280dd634caced1b972c5ad3600e18eed6bea56a4852218c0039067b7b246063d23cd891637fd7e5d7992b3193',\n",
       " 'file': '/home/cobrayyxx/coding-coding/personal/speech-translation-mentorship/covost2_id_en/id/clips/common_voice_id_19090412.mp3',\n",
       " 'audio': {'path': '/home/cobrayyxx/coding-coding/personal/speech-translation-mentorship/covost2_id_en/id/clips/common_voice_id_19090412.mp3',\n",
       "  'array': array([ 2.91038305e-11, -1.60071068e-10,  5.82076609e-11, ...,\n",
       "         -1.03077582e-06, -7.05323691e-06,  7.26000872e-05]),\n",
       "  'sampling_rate': 16000},\n",
       " 'sentence': 'Di belakang rumah ada mobil.',\n",
       " 'translation': 'Behind the house, there is a car.',\n",
       " 'id': 'common_voice_id_19090412'}"
      ]
     },
     "execution_count": 14,
     "metadata": {},
     "output_type": "execute_result"
    }
   ],
   "source": [
    "covost2_dataset[2]"
   ]
  },
  {
   "cell_type": "markdown",
   "id": "b643a4ea-6c1a-427d-ace7-a7346daef547",
   "metadata": {},
   "source": [
    "# Convert to Pandas for Preprocessing"
   ]
  },
  {
   "cell_type": "code",
   "execution_count": 17,
   "id": "123c0c27-2fcc-44c6-bc99-2c913aff5002",
   "metadata": {},
   "outputs": [
    {
     "data": {
      "text/html": [
       "<div>\n",
       "<style scoped>\n",
       "    .dataframe tbody tr th:only-of-type {\n",
       "        vertical-align: middle;\n",
       "    }\n",
       "\n",
       "    .dataframe tbody tr th {\n",
       "        vertical-align: top;\n",
       "    }\n",
       "\n",
       "    .dataframe thead th {\n",
       "        text-align: right;\n",
       "    }\n",
       "</style>\n",
       "<table border=\"1\" class=\"dataframe\">\n",
       "  <thead>\n",
       "    <tr style=\"text-align: right;\">\n",
       "      <th></th>\n",
       "      <th>client_id</th>\n",
       "      <th>file</th>\n",
       "      <th>audio</th>\n",
       "      <th>sentence</th>\n",
       "      <th>translation</th>\n",
       "      <th>id</th>\n",
       "    </tr>\n",
       "  </thead>\n",
       "  <tbody>\n",
       "    <tr>\n",
       "      <th>2874</th>\n",
       "      <td>8b06b50dc705efb9e9c4bea38dad95d43b7ec78af963af...</td>\n",
       "      <td>/home/cobrayyxx/coding-coding/personal/speech-...</td>\n",
       "      <td>{'bytes': None, 'path': '/home/cobrayyxx/codin...</td>\n",
       "      <td>Bhinneka Tunggal Ika.</td>\n",
       "      <td>Unity in Diversity.</td>\n",
       "      <td>common_voice_id_19258506</td>\n",
       "    </tr>\n",
       "    <tr>\n",
       "      <th>2875</th>\n",
       "      <td>8b06b50dc705efb9e9c4bea38dad95d43b7ec78af963af...</td>\n",
       "      <td>/home/cobrayyxx/coding-coding/personal/speech-...</td>\n",
       "      <td>{'bytes': None, 'path': '/home/cobrayyxx/codin...</td>\n",
       "      <td>Saya menyusun piring di meja.</td>\n",
       "      <td>I arrange a plate on the table.</td>\n",
       "      <td>common_voice_id_19258507</td>\n",
       "    </tr>\n",
       "    <tr>\n",
       "      <th>2876</th>\n",
       "      <td>8b06b50dc705efb9e9c4bea38dad95d43b7ec78af963af...</td>\n",
       "      <td>/home/cobrayyxx/coding-coding/personal/speech-...</td>\n",
       "      <td>{'bytes': None, 'path': '/home/cobrayyxx/codin...</td>\n",
       "      <td>Dia kaya dengan cepat.</td>\n",
       "      <td>He is rich quickly.</td>\n",
       "      <td>common_voice_id_19258508</td>\n",
       "    </tr>\n",
       "    <tr>\n",
       "      <th>2877</th>\n",
       "      <td>8b06b50dc705efb9e9c4bea38dad95d43b7ec78af963af...</td>\n",
       "      <td>/home/cobrayyxx/coding-coding/personal/speech-...</td>\n",
       "      <td>{'bytes': None, 'path': '/home/cobrayyxx/codin...</td>\n",
       "      <td>Dia mendapatkan nilai bagus dalam bahasa inggris.</td>\n",
       "      <td>He got good scores in English.</td>\n",
       "      <td>common_voice_id_19258509</td>\n",
       "    </tr>\n",
       "    <tr>\n",
       "      <th>2878</th>\n",
       "      <td>8b06b50dc705efb9e9c4bea38dad95d43b7ec78af963af...</td>\n",
       "      <td>/home/cobrayyxx/coding-coding/personal/speech-...</td>\n",
       "      <td>{'bytes': None, 'path': '/home/cobrayyxx/codin...</td>\n",
       "      <td>Selamat malam, Timmy.</td>\n",
       "      <td>Good evening, Timmy.</td>\n",
       "      <td>common_voice_id_19258510</td>\n",
       "    </tr>\n",
       "  </tbody>\n",
       "</table>\n",
       "</div>"
      ],
      "text/plain": [
       "                                              client_id  \\\n",
       "2874  8b06b50dc705efb9e9c4bea38dad95d43b7ec78af963af...   \n",
       "2875  8b06b50dc705efb9e9c4bea38dad95d43b7ec78af963af...   \n",
       "2876  8b06b50dc705efb9e9c4bea38dad95d43b7ec78af963af...   \n",
       "2877  8b06b50dc705efb9e9c4bea38dad95d43b7ec78af963af...   \n",
       "2878  8b06b50dc705efb9e9c4bea38dad95d43b7ec78af963af...   \n",
       "\n",
       "                                                   file  \\\n",
       "2874  /home/cobrayyxx/coding-coding/personal/speech-...   \n",
       "2875  /home/cobrayyxx/coding-coding/personal/speech-...   \n",
       "2876  /home/cobrayyxx/coding-coding/personal/speech-...   \n",
       "2877  /home/cobrayyxx/coding-coding/personal/speech-...   \n",
       "2878  /home/cobrayyxx/coding-coding/personal/speech-...   \n",
       "\n",
       "                                                  audio  \\\n",
       "2874  {'bytes': None, 'path': '/home/cobrayyxx/codin...   \n",
       "2875  {'bytes': None, 'path': '/home/cobrayyxx/codin...   \n",
       "2876  {'bytes': None, 'path': '/home/cobrayyxx/codin...   \n",
       "2877  {'bytes': None, 'path': '/home/cobrayyxx/codin...   \n",
       "2878  {'bytes': None, 'path': '/home/cobrayyxx/codin...   \n",
       "\n",
       "                                               sentence  \\\n",
       "2874                              Bhinneka Tunggal Ika.   \n",
       "2875                      Saya menyusun piring di meja.   \n",
       "2876                             Dia kaya dengan cepat.   \n",
       "2877  Dia mendapatkan nilai bagus dalam bahasa inggris.   \n",
       "2878                              Selamat malam, Timmy.   \n",
       "\n",
       "                          translation                        id  \n",
       "2874              Unity in Diversity.  common_voice_id_19258506  \n",
       "2875  I arrange a plate on the table.  common_voice_id_19258507  \n",
       "2876              He is rich quickly.  common_voice_id_19258508  \n",
       "2877   He got good scores in English.  common_voice_id_19258509  \n",
       "2878             Good evening, Timmy.  common_voice_id_19258510  "
      ]
     },
     "execution_count": 17,
     "metadata": {},
     "output_type": "execute_result"
    }
   ],
   "source": [
    "# convert to panda DataFrame\n",
    "df_covost2 = covost2_dataset.to_pandas()\n",
    "df_covost2.tail()"
   ]
  },
  {
   "cell_type": "code",
   "execution_count": 25,
   "id": "03ccb539-983f-4dfc-98c0-ea8ecaae0f3f",
   "metadata": {},
   "outputs": [],
   "source": [
    "df_covost2 = df_covost2.drop(columns=[\"client_id\", \"file\"], axis=0)"
   ]
  },
  {
   "cell_type": "code",
   "execution_count": 26,
   "id": "f8e0d403-a24c-4bef-8c97-06170c0809ac",
   "metadata": {},
   "outputs": [],
   "source": [
    "# Rearrange the columns so that the ID column comes first.\n",
    "df_id = df_covost2.pop(\"id\")\n",
    "df_covost2.insert(0, \"id\", df_id)"
   ]
  },
  {
   "cell_type": "code",
   "execution_count": 27,
   "id": "cf3df4df-188c-4d7f-bd64-01880ad33c07",
   "metadata": {},
   "outputs": [
    {
     "data": {
      "text/html": [
       "<div>\n",
       "<style scoped>\n",
       "    .dataframe tbody tr th:only-of-type {\n",
       "        vertical-align: middle;\n",
       "    }\n",
       "\n",
       "    .dataframe tbody tr th {\n",
       "        vertical-align: top;\n",
       "    }\n",
       "\n",
       "    .dataframe thead th {\n",
       "        text-align: right;\n",
       "    }\n",
       "</style>\n",
       "<table border=\"1\" class=\"dataframe\">\n",
       "  <thead>\n",
       "    <tr style=\"text-align: right;\">\n",
       "      <th></th>\n",
       "      <th>id</th>\n",
       "      <th>audio</th>\n",
       "      <th>sentence</th>\n",
       "      <th>translation</th>\n",
       "    </tr>\n",
       "  </thead>\n",
       "  <tbody>\n",
       "    <tr>\n",
       "      <th>0</th>\n",
       "      <td>common_voice_id_19090410</td>\n",
       "      <td>{'bytes': None, 'path': '/home/cobrayyxx/codin...</td>\n",
       "      <td>\"\"\"Cepatlah berangkat!\"\" ia berujar padaku.\"</td>\n",
       "      <td>\"Hurry and go!\" he said to me.</td>\n",
       "    </tr>\n",
       "    <tr>\n",
       "      <th>1</th>\n",
       "      <td>common_voice_id_19090411</td>\n",
       "      <td>{'bytes': None, 'path': '/home/cobrayyxx/codin...</td>\n",
       "      <td>Barang Pak Kimura kecil dan ringan.</td>\n",
       "      <td>Mr. Kimura's things are small and light.</td>\n",
       "    </tr>\n",
       "    <tr>\n",
       "      <th>2</th>\n",
       "      <td>common_voice_id_19090412</td>\n",
       "      <td>{'bytes': None, 'path': '/home/cobrayyxx/codin...</td>\n",
       "      <td>Di belakang rumah ada mobil.</td>\n",
       "      <td>Behind the house, there is a car.</td>\n",
       "    </tr>\n",
       "    <tr>\n",
       "      <th>3</th>\n",
       "      <td>common_voice_id_19090413</td>\n",
       "      <td>{'bytes': None, 'path': '/home/cobrayyxx/codin...</td>\n",
       "      <td>Tolong tanyain dong sama dia!</td>\n",
       "      <td>Please ask him!</td>\n",
       "    </tr>\n",
       "    <tr>\n",
       "      <th>4</th>\n",
       "      <td>common_voice_id_19090414</td>\n",
       "      <td>{'bytes': None, 'path': '/home/cobrayyxx/codin...</td>\n",
       "      <td>Apa yang dokter katakan?</td>\n",
       "      <td>What did the doctor say?</td>\n",
       "    </tr>\n",
       "  </tbody>\n",
       "</table>\n",
       "</div>"
      ],
      "text/plain": [
       "                         id  \\\n",
       "0  common_voice_id_19090410   \n",
       "1  common_voice_id_19090411   \n",
       "2  common_voice_id_19090412   \n",
       "3  common_voice_id_19090413   \n",
       "4  common_voice_id_19090414   \n",
       "\n",
       "                                               audio  \\\n",
       "0  {'bytes': None, 'path': '/home/cobrayyxx/codin...   \n",
       "1  {'bytes': None, 'path': '/home/cobrayyxx/codin...   \n",
       "2  {'bytes': None, 'path': '/home/cobrayyxx/codin...   \n",
       "3  {'bytes': None, 'path': '/home/cobrayyxx/codin...   \n",
       "4  {'bytes': None, 'path': '/home/cobrayyxx/codin...   \n",
       "\n",
       "                                       sentence  \\\n",
       "0  \"\"\"Cepatlah berangkat!\"\" ia berujar padaku.\"   \n",
       "1           Barang Pak Kimura kecil dan ringan.   \n",
       "2                  Di belakang rumah ada mobil.   \n",
       "3                 Tolong tanyain dong sama dia!   \n",
       "4                      Apa yang dokter katakan?   \n",
       "\n",
       "                                translation  \n",
       "0            \"Hurry and go!\" he said to me.  \n",
       "1  Mr. Kimura's things are small and light.  \n",
       "2         Behind the house, there is a car.  \n",
       "3                           Please ask him!  \n",
       "4                  What did the doctor say?  "
      ]
     },
     "execution_count": 27,
     "metadata": {},
     "output_type": "execute_result"
    }
   ],
   "source": [
    "df_covost2.head()"
   ]
  },
  {
   "cell_type": "code",
   "execution_count": 31,
   "id": "9890a500-334f-419b-82c0-c5071de751fd",
   "metadata": {},
   "outputs": [],
   "source": [
    "# rename sentence and translation columns\n",
    "df_covost2 = df_covost2.rename(columns={\"sentence\":\"text_indo\", \"translation\":\"text_en\"})"
   ]
  },
  {
   "cell_type": "code",
   "execution_count": 32,
   "id": "6e3c80fb-4041-477f-867f-0e35ec96210d",
   "metadata": {},
   "outputs": [
    {
     "data": {
      "text/html": [
       "<div>\n",
       "<style scoped>\n",
       "    .dataframe tbody tr th:only-of-type {\n",
       "        vertical-align: middle;\n",
       "    }\n",
       "\n",
       "    .dataframe tbody tr th {\n",
       "        vertical-align: top;\n",
       "    }\n",
       "\n",
       "    .dataframe thead th {\n",
       "        text-align: right;\n",
       "    }\n",
       "</style>\n",
       "<table border=\"1\" class=\"dataframe\">\n",
       "  <thead>\n",
       "    <tr style=\"text-align: right;\">\n",
       "      <th></th>\n",
       "      <th>id</th>\n",
       "      <th>audio</th>\n",
       "      <th>text_indo</th>\n",
       "      <th>text_en</th>\n",
       "    </tr>\n",
       "  </thead>\n",
       "  <tbody>\n",
       "    <tr>\n",
       "      <th>0</th>\n",
       "      <td>common_voice_id_19090410</td>\n",
       "      <td>{'bytes': None, 'path': '/home/cobrayyxx/codin...</td>\n",
       "      <td>\"\"\"Cepatlah berangkat!\"\" ia berujar padaku.\"</td>\n",
       "      <td>\"Hurry and go!\" he said to me.</td>\n",
       "    </tr>\n",
       "    <tr>\n",
       "      <th>1</th>\n",
       "      <td>common_voice_id_19090411</td>\n",
       "      <td>{'bytes': None, 'path': '/home/cobrayyxx/codin...</td>\n",
       "      <td>Barang Pak Kimura kecil dan ringan.</td>\n",
       "      <td>Mr. Kimura's things are small and light.</td>\n",
       "    </tr>\n",
       "    <tr>\n",
       "      <th>2</th>\n",
       "      <td>common_voice_id_19090412</td>\n",
       "      <td>{'bytes': None, 'path': '/home/cobrayyxx/codin...</td>\n",
       "      <td>Di belakang rumah ada mobil.</td>\n",
       "      <td>Behind the house, there is a car.</td>\n",
       "    </tr>\n",
       "    <tr>\n",
       "      <th>3</th>\n",
       "      <td>common_voice_id_19090413</td>\n",
       "      <td>{'bytes': None, 'path': '/home/cobrayyxx/codin...</td>\n",
       "      <td>Tolong tanyain dong sama dia!</td>\n",
       "      <td>Please ask him!</td>\n",
       "    </tr>\n",
       "    <tr>\n",
       "      <th>4</th>\n",
       "      <td>common_voice_id_19090414</td>\n",
       "      <td>{'bytes': None, 'path': '/home/cobrayyxx/codin...</td>\n",
       "      <td>Apa yang dokter katakan?</td>\n",
       "      <td>What did the doctor say?</td>\n",
       "    </tr>\n",
       "  </tbody>\n",
       "</table>\n",
       "</div>"
      ],
      "text/plain": [
       "                         id  \\\n",
       "0  common_voice_id_19090410   \n",
       "1  common_voice_id_19090411   \n",
       "2  common_voice_id_19090412   \n",
       "3  common_voice_id_19090413   \n",
       "4  common_voice_id_19090414   \n",
       "\n",
       "                                               audio  \\\n",
       "0  {'bytes': None, 'path': '/home/cobrayyxx/codin...   \n",
       "1  {'bytes': None, 'path': '/home/cobrayyxx/codin...   \n",
       "2  {'bytes': None, 'path': '/home/cobrayyxx/codin...   \n",
       "3  {'bytes': None, 'path': '/home/cobrayyxx/codin...   \n",
       "4  {'bytes': None, 'path': '/home/cobrayyxx/codin...   \n",
       "\n",
       "                                      text_indo  \\\n",
       "0  \"\"\"Cepatlah berangkat!\"\" ia berujar padaku.\"   \n",
       "1           Barang Pak Kimura kecil dan ringan.   \n",
       "2                  Di belakang rumah ada mobil.   \n",
       "3                 Tolong tanyain dong sama dia!   \n",
       "4                      Apa yang dokter katakan?   \n",
       "\n",
       "                                    text_en  \n",
       "0            \"Hurry and go!\" he said to me.  \n",
       "1  Mr. Kimura's things are small and light.  \n",
       "2         Behind the house, there is a car.  \n",
       "3                           Please ask him!  \n",
       "4                  What did the doctor say?  "
      ]
     },
     "execution_count": 32,
     "metadata": {},
     "output_type": "execute_result"
    }
   ],
   "source": [
    "df_covost2.head()"
   ]
  },
  {
   "cell_type": "code",
   "execution_count": 33,
   "id": "972b8542-14f5-4828-9adc-c9dd7fefa2f9",
   "metadata": {},
   "outputs": [
    {
     "data": {
      "text/plain": [
       "(2879, 4)"
      ]
     },
     "execution_count": 33,
     "metadata": {},
     "output_type": "execute_result"
    }
   ],
   "source": [
    "df_covost2.shape"
   ]
  },
  {
   "cell_type": "code",
   "execution_count": 62,
   "id": "9f0b5c30-fbb3-404f-b231-9744dcd3c08a",
   "metadata": {},
   "outputs": [
    {
     "name": "stdout",
     "output_type": "stream",
     "text": [
      "<class 'pandas.core.frame.DataFrame'>\n",
      "RangeIndex: 2879 entries, 0 to 2878\n",
      "Data columns (total 4 columns):\n",
      " #   Column     Non-Null Count  Dtype \n",
      "---  ------     --------------  ----- \n",
      " 0   id         2879 non-null   object\n",
      " 1   audio      2879 non-null   object\n",
      " 2   text_indo  2879 non-null   object\n",
      " 3   text_en    2879 non-null   object\n",
      "dtypes: object(4)\n",
      "memory usage: 90.1+ KB\n"
     ]
    }
   ],
   "source": [
    "#check null value\n",
    "df_covost2.info()"
   ]
  },
  {
   "cell_type": "markdown",
   "id": "440f14e9-2399-474e-a8d1-ee59005bb4ed",
   "metadata": {},
   "source": [
    "# Convert Back to Dataset Object"
   ]
  },
  {
   "cell_type": "code",
   "execution_count": 35,
   "id": "2ca09b22-3b8b-40e5-a98a-2770bfb86d8e",
   "metadata": {},
   "outputs": [],
   "source": [
    "# Convert back to Dataset format\n",
    "covost2_dataset = Dataset.from_pandas(df_covost2)"
   ]
  },
  {
   "cell_type": "code",
   "execution_count": 36,
   "id": "670377ef-04c5-4ca2-9c5d-9d1543d61302",
   "metadata": {},
   "outputs": [
    {
     "data": {
      "text/plain": [
       "Dataset({\n",
       "    features: ['id', 'audio', 'text_indo', 'text_en'],\n",
       "    num_rows: 2879\n",
       "})"
      ]
     },
     "execution_count": 36,
     "metadata": {},
     "output_type": "execute_result"
    }
   ],
   "source": [
    "covost2_dataset"
   ]
  },
  {
   "cell_type": "code",
   "execution_count": 39,
   "id": "6b2ace26-c332-4d44-ab09-72c04f626b1e",
   "metadata": {},
   "outputs": [
    {
     "data": {
      "text/plain": [
       "{'bytes': None,\n",
       " 'path': '/home/cobrayyxx/coding-coding/personal/speech-translation-mentorship/covost2_id_en/id/clips/common_voice_id_19090411.mp3'}"
      ]
     },
     "execution_count": 39,
     "metadata": {},
     "output_type": "execute_result"
    }
   ],
   "source": [
    "covost2_dataset[1][\"audio\"]"
   ]
  },
  {
   "cell_type": "code",
   "execution_count": 44,
   "id": "dc71acf4-61aa-4a37-9b30-5aac6f85fbea",
   "metadata": {},
   "outputs": [],
   "source": [
    "# Re-cast the audio column from byte to Audio object\n",
    "covost2_dataset = covost2_dataset.cast_column(\"audio\", Audio(sampling_rate=16000))"
   ]
  },
  {
   "cell_type": "code",
   "execution_count": 45,
   "id": "5f7e022a-6eb6-49e9-ba3b-5f59d6ec405c",
   "metadata": {},
   "outputs": [
    {
     "data": {
      "text/plain": [
       "{'path': '/home/cobrayyxx/coding-coding/personal/speech-translation-mentorship/covost2_id_en/id/clips/common_voice_id_19090411.mp3',\n",
       " 'array': array([ 2.32830644e-10,  2.09547579e-09,  5.82076609e-10, ...,\n",
       "        -1.67789403e-05,  2.81736720e-06,  4.79968730e-06]),\n",
       " 'sampling_rate': 16000}"
      ]
     },
     "execution_count": 45,
     "metadata": {},
     "output_type": "execute_result"
    }
   ],
   "source": [
    "covost2_dataset[1][\"audio\"]"
   ]
  },
  {
   "cell_type": "markdown",
   "id": "e24cd0f2-f242-485a-abcd-a1fa162e8871",
   "metadata": {},
   "source": [
    "# Split into Train and Val"
   ]
  },
  {
   "cell_type": "code",
   "execution_count": 46,
   "id": "9a22edf2-9884-4879-952e-ca3a93380c06",
   "metadata": {},
   "outputs": [],
   "source": [
    "splitted_dataset = covost2_dataset.train_test_split(test_size=0.2)"
   ]
  },
  {
   "cell_type": "code",
   "execution_count": 48,
   "id": "c68085d6-1f36-4250-902b-02a68479a62e",
   "metadata": {},
   "outputs": [
    {
     "data": {
      "text/plain": [
       "{'id': 'common_voice_id_19192633',\n",
       " 'audio': {'path': '/home/cobrayyxx/coding-coding/personal/speech-translation-mentorship/covost2_id_en/id/clips/common_voice_id_19192633.mp3',\n",
       "  'array': array([ 4.54747351e-13,  0.00000000e+00, -5.00222086e-12, ...,\n",
       "         -7.21809511e-06, -8.87564602e-06, -5.72347926e-06]),\n",
       "  'sampling_rate': 16000},\n",
       " 'text_indo': 'Tidak ada tuhan selain Allah. Muhammad adalah utusan Allah.',\n",
       " 'text_en': 'There is no God but Allah. Muhammad is the messenger of God.'}"
      ]
     },
     "execution_count": 48,
     "metadata": {},
     "output_type": "execute_result"
    }
   ],
   "source": [
    "splitted_dataset[\"train\"][0]"
   ]
  },
  {
   "cell_type": "code",
   "execution_count": 53,
   "id": "7dd78080-f991-45f3-974b-95efbf408210",
   "metadata": {},
   "outputs": [
    {
     "data": {
      "text/plain": [
       "Dataset({\n",
       "    features: ['id', 'audio', 'text_indo', 'text_en'],\n",
       "    num_rows: 576\n",
       "})"
      ]
     },
     "execution_count": 53,
     "metadata": {},
     "output_type": "execute_result"
    }
   ],
   "source": [
    "splitted_dataset[\"test\"]"
   ]
  },
  {
   "cell_type": "code",
   "execution_count": 49,
   "id": "5f5c0cb6-f49c-45db-950c-3eae96b12360",
   "metadata": {},
   "outputs": [
    {
     "data": {
      "text/plain": [
       "{'id': 'common_voice_id_19668012',\n",
       " 'audio': {'path': '/home/cobrayyxx/coding-coding/personal/speech-translation-mentorship/covost2_id_en/id/clips/common_voice_id_19668012.mp3',\n",
       "  'array': array([-2.03726813e-10, -2.40106601e-10, -2.54658516e-10, ...,\n",
       "          2.18490401e-04,  1.59549294e-04, -6.98005897e-05]),\n",
       "  'sampling_rate': 16000},\n",
       " 'text_indo': 'Dia harus datang kerumahmu setelah satu jam.',\n",
       " 'text_en': 'He has to come to your house after an hour.'}"
      ]
     },
     "execution_count": 49,
     "metadata": {},
     "output_type": "execute_result"
    }
   ],
   "source": [
    "splitted_dataset[\"test\"][0]"
   ]
  },
  {
   "cell_type": "code",
   "execution_count": 50,
   "id": "1120c1e4-df9c-4edf-85d4-09b44d829d38",
   "metadata": {},
   "outputs": [],
   "source": [
    "dataset = DatasetDict({\n",
    "    'train': splitted_dataset['train'],\n",
    "    'validation': splitted_dataset['test']})"
   ]
  },
  {
   "cell_type": "code",
   "execution_count": 51,
   "id": "d54355f2-b022-46e3-a06b-0171259e08e0",
   "metadata": {},
   "outputs": [
    {
     "data": {
      "text/plain": [
       "Dataset({\n",
       "    features: ['id', 'audio', 'text_indo', 'text_en'],\n",
       "    num_rows: 576\n",
       "})"
      ]
     },
     "execution_count": 51,
     "metadata": {},
     "output_type": "execute_result"
    }
   ],
   "source": [
    "dataset[\"validation\"]"
   ]
  },
  {
   "cell_type": "code",
   "execution_count": 52,
   "id": "33803c9a-5980-43b5-b80f-a8fdad92ec3a",
   "metadata": {},
   "outputs": [
    {
     "data": {
      "text/plain": [
       "Dataset({\n",
       "    features: ['id', 'audio', 'text_indo', 'text_en'],\n",
       "    num_rows: 2303\n",
       "})"
      ]
     },
     "execution_count": 52,
     "metadata": {},
     "output_type": "execute_result"
    }
   ],
   "source": [
    "dataset[\"train\"]"
   ]
  },
  {
   "cell_type": "markdown",
   "id": "3821e3e9-34ca-4e4b-844a-187945001fa3",
   "metadata": {},
   "source": [
    "# Total Duration of Audio"
   ]
  },
  {
   "cell_type": "code",
   "execution_count": 59,
   "id": "0685ec41-d823-4567-99e4-e8db2c5f505d",
   "metadata": {},
   "outputs": [],
   "source": [
    "def get_dataset_duration(audio_dataset):\n",
    "    seconds=0\n",
    "    for audio in tqdm(audio_dataset, total=len(audio_dataset)):\n",
    "        audio_array = audio[\"array\"]\n",
    "        sampling_rate = audio[\"sampling_rate\"]\n",
    "        audio_duration = get_duration(y=audio_array, sr=sampling_rate)\n",
    "        seconds+=audio_duration\n",
    "\n",
    "    minutes, seconds = divmod(seconds, 60)\n",
    "    hours, minutes = divmod(minutes,60)\n",
    "    dataset_duration = f\"{hours:0.0f}:{minutes:0.0f}:{seconds:0.0f} \"\n",
    "    return dataset_duration"
   ]
  },
  {
   "cell_type": "code",
   "execution_count": 60,
   "id": "593ab573-8f23-44d1-b1a7-c4a13fcc294d",
   "metadata": {},
   "outputs": [
    {
     "data": {
      "application/vnd.jupyter.widget-view+json": {
       "model_id": "a0e3c2b5af564da8a62a998d3247d484",
       "version_major": 2,
       "version_minor": 0
      },
      "text/plain": [
       "  0%|          | 0/2879 [00:00<?, ?it/s]"
      ]
     },
     "metadata": {},
     "output_type": "display_data"
    }
   ],
   "source": [
    "total_duration = get_dataset_duration(covost2_dataset[\"audio\"])"
   ]
  },
  {
   "cell_type": "code",
   "execution_count": 61,
   "id": "998ed7b3-ec4a-4c8e-bcbd-cb1b09e5bad9",
   "metadata": {},
   "outputs": [
    {
     "data": {
      "text/plain": [
       "'2:58:59 '"
      ]
     },
     "execution_count": 61,
     "metadata": {},
     "output_type": "execute_result"
    }
   ],
   "source": [
    "total_duration"
   ]
  },
  {
   "cell_type": "markdown",
   "id": "1fcfb9ba-2527-4208-b6a7-a6d2853fd082",
   "metadata": {},
   "source": [
    "# Upload to HuggingFace"
   ]
  },
  {
   "cell_type": "code",
   "execution_count": 58,
   "id": "39b1143f-4372-424d-ac4e-fe1a2aab1414",
   "metadata": {},
   "outputs": [
    {
     "data": {
      "application/vnd.jupyter.widget-view+json": {
       "model_id": "b850bdf57b05456489bf5a0a2ac4afea",
       "version_major": 2,
       "version_minor": 0
      },
      "text/plain": [
       "Uploading the dataset shards:   0%|          | 0/1 [00:00<?, ?it/s]"
      ]
     },
     "metadata": {},
     "output_type": "display_data"
    },
    {
     "data": {
      "application/vnd.jupyter.widget-view+json": {
       "model_id": "d326e96a3f874f94b5d49f0c58976b65",
       "version_major": 2,
       "version_minor": 0
      },
      "text/plain": [
       "Map:   0%|          | 0/2303 [00:00<?, ? examples/s]"
      ]
     },
     "metadata": {},
     "output_type": "display_data"
    },
    {
     "data": {
      "application/vnd.jupyter.widget-view+json": {
       "model_id": "e57a77e50eb242ad87b7ad4c9f05a866",
       "version_major": 2,
       "version_minor": 0
      },
      "text/plain": [
       "Creating parquet from Arrow format:   0%|          | 0/24 [00:00<?, ?ba/s]"
      ]
     },
     "metadata": {},
     "output_type": "display_data"
    },
    {
     "data": {
      "application/vnd.jupyter.widget-view+json": {
       "model_id": "aa78204c04014631942bd211f308f5cd",
       "version_major": 2,
       "version_minor": 0
      },
      "text/plain": [
       "Uploading the dataset shards:   0%|          | 0/1 [00:00<?, ?it/s]"
      ]
     },
     "metadata": {},
     "output_type": "display_data"
    },
    {
     "data": {
      "application/vnd.jupyter.widget-view+json": {
       "model_id": "7432248516f34d84951d988915be92d7",
       "version_major": 2,
       "version_minor": 0
      },
      "text/plain": [
       "Map:   0%|          | 0/576 [00:00<?, ? examples/s]"
      ]
     },
     "metadata": {},
     "output_type": "display_data"
    },
    {
     "data": {
      "application/vnd.jupyter.widget-view+json": {
       "model_id": "64c4334aa46047dcb6618262ec06941c",
       "version_major": 2,
       "version_minor": 0
      },
      "text/plain": [
       "Creating parquet from Arrow format:   0%|          | 0/6 [00:00<?, ?ba/s]"
      ]
     },
     "metadata": {},
     "output_type": "display_data"
    },
    {
     "data": {
      "text/plain": [
       "CommitInfo(commit_url='https://huggingface.co/datasets/cobrayyxx/COVOST2_INDO-ENG_Speech_Translation/commit/72deb9935942dfab42e2e4941c5681ace28ffe51', commit_message='Upload dataset', commit_description='', oid='72deb9935942dfab42e2e4941c5681ace28ffe51', pr_url=None, repo_url=RepoUrl('https://huggingface.co/datasets/cobrayyxx/COVOST2_INDO-ENG_Speech_Translation', endpoint='https://huggingface.co', repo_type='dataset', repo_id='cobrayyxx/COVOST2_INDO-ENG_Speech_Translation'), pr_revision=None, pr_num=None)"
      ]
     },
     "execution_count": 58,
     "metadata": {},
     "output_type": "execute_result"
    }
   ],
   "source": [
    "dataset.push_to_hub(\"cobrayyxx/COVOST2_INDO-ENG_Speech_Translation\", private=False)"
   ]
  },
  {
   "cell_type": "code",
   "execution_count": null,
   "id": "53975865-d566-4dc7-842a-a8568de308ff",
   "metadata": {},
   "outputs": [],
   "source": []
  }
 ],
 "metadata": {
  "kernelspec": {
   "display_name": "Python 3 (ipykernel)",
   "language": "python",
   "name": "python3"
  },
  "language_info": {
   "codemirror_mode": {
    "name": "ipython",
    "version": 3
   },
   "file_extension": ".py",
   "mimetype": "text/x-python",
   "name": "python",
   "nbconvert_exporter": "python",
   "pygments_lexer": "ipython3",
   "version": "3.12.3"
  }
 },
 "nbformat": 4,
 "nbformat_minor": 5
}
