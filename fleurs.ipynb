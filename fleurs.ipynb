{
 "cells": [
  {
   "cell_type": "code",
   "execution_count": 1,
   "id": "a32b0d5b-f9c4-4d9e-929a-4a9df34d61fa",
   "metadata": {},
   "outputs": [],
   "source": [
    "from datasets import load_dataset, Dataset, Audio, DatasetDict\n",
    "import pandas as pd\n",
    "from tqdm import tqdm\n",
    "from librosa import load, get_duration\n",
    "from tqdm.notebook import tqdm\n"
   ]
  },
  {
   "cell_type": "code",
   "execution_count": 2,
   "id": "4824b417-4ee8-4cae-a875-6ed3aaf754d2",
   "metadata": {},
   "outputs": [],
   "source": [
    "fleurs_dataset_id = load_dataset(\"google/fleurs\", \n",
    "                      name=\"id_id\", \n",
    "                      split=\"train+validation+test\",\n",
    "                      trust_remote_code=True\n",
    "                        )\n"
   ]
  },
  {
   "cell_type": "code",
   "execution_count": 3,
   "id": "343556c8-c559-4119-8c47-472747ae9aeb",
   "metadata": {},
   "outputs": [],
   "source": [
    "fleurs_dataset_en = load_dataset(\"google/fleurs\",\n",
    "                                  name=\"en_us\",\n",
    "                                  split=\"train+validation+test\",\n",
    "                                  trust_remote_code=True\n",
    "                                )"
   ]
  },
  {
   "cell_type": "code",
   "execution_count": 4,
   "id": "5003a371-c9b9-42b3-ac2c-f35f89d28802",
   "metadata": {},
   "outputs": [
    {
     "data": {
      "text/plain": [
       "{'id': 89,\n",
       " 'num_samples': 146880,\n",
       " 'path': '/home/cobrayyxx/.cache/huggingface/datasets/downloads/extracted/843218dfe1b47ac56ebb3fd2fca946a8d26c2d01c4a617ad44ea01c01d0cc1c8/10014050057465037761.wav',\n",
       " 'audio': {'path': 'train/10014050057465037761.wav',\n",
       "  'array': array([0.        , 0.        , 0.        , ..., 0.01398671, 0.01056969,\n",
       "         0.00827134]),\n",
       "  'sampling_rate': 16000},\n",
       " 'transcription': 'pihak berwajib tidak banyak memberi pernyataan resmi selain mengonfirmasi penahanan hari ini',\n",
       " 'raw_transcription': 'Pihak berwajib tidak banyak memberi pernyataan resmi selain mengonfirmasi penahanan hari ini.',\n",
       " 'gender': 1,\n",
       " 'lang_id': 36,\n",
       " 'language': 'Indonesian',\n",
       " 'lang_group_id': 5}"
      ]
     },
     "execution_count": 4,
     "metadata": {},
     "output_type": "execute_result"
    }
   ],
   "source": [
    "fleurs_dataset_id[2]"
   ]
  },
  {
   "cell_type": "code",
   "execution_count": 5,
   "id": "c22efda1-d4d2-4a7f-9f70-ed5d6586ae78",
   "metadata": {},
   "outputs": [
    {
     "data": {
      "text/plain": [
       "{'id': 903,\n",
       " 'num_samples': 108800,\n",
       " 'path': '/home/cobrayyxx/.cache/huggingface/datasets/downloads/extracted/aa5f35b1ec47eaf7b5b2b2300cb1a1b43ff29254f6dffd84be1b7defbaa4f070/10004088536354799741.wav',\n",
       " 'audio': {'path': 'train/10004088536354799741.wav',\n",
       "  'array': array([ 0.00000000e+00,  0.00000000e+00,  0.00000000e+00, ...,\n",
       "         -3.15904617e-06, -3.03983688e-06, -3.27825546e-06]),\n",
       "  'sampling_rate': 16000},\n",
       " 'transcription': 'a tornado is a spinning column of very low-pressure air which sucks the surrounding air inward and upward',\n",
       " 'raw_transcription': 'A tornado is a spinning column of very low-pressure air, which sucks the surrounding air inward and upward.',\n",
       " 'gender': 1,\n",
       " 'lang_id': 19,\n",
       " 'language': 'English',\n",
       " 'lang_group_id': 0}"
      ]
     },
     "execution_count": 5,
     "metadata": {},
     "output_type": "execute_result"
    }
   ],
   "source": [
    "fleurs_dataset_en[0]"
   ]
  },
  {
   "cell_type": "code",
   "execution_count": 6,
   "id": "5633e346-a699-423a-8df0-6fda9d20ace1",
   "metadata": {},
   "outputs": [],
   "source": [
    "# Removing unused columns\n",
    "fleurs_dataset_id = fleurs_dataset_id.remove_columns([\"num_samples\", \"path\", \"transcription\", \"gender\", \"lang_id\", \"language\", \"lang_group_id\" ])\n",
    "fleurs_dataset_en = fleurs_dataset_en.remove_columns([\"num_samples\", \"path\", \"audio\", \"transcription\", \"gender\", \"lang_id\", \"language\", \"lang_group_id\", ])"
   ]
  },
  {
   "cell_type": "code",
   "execution_count": 7,
   "id": "6e32302a-7a67-4b16-8103-a77a1b0af066",
   "metadata": {},
   "outputs": [],
   "source": [
    "# Rename \"raw_transcription\" column\n",
    "fleurs_dataset_id = fleurs_dataset_id.rename_column(\"raw_transcription\", \"text_indo\")\n",
    "fleurs_dataset_en = fleurs_dataset_en.rename_column(\"raw_transcription\", \"text_en\")\n"
   ]
  },
  {
   "cell_type": "code",
   "execution_count": 8,
   "id": "f2b78194-0bde-456d-9a7c-0e38a4e860cf",
   "metadata": {},
   "outputs": [
    {
     "name": "stdout",
     "output_type": "stream",
     "text": [
      "Dataset({\n",
      "    features: ['id', 'audio', 'text_indo'],\n",
      "    num_rows: 3616\n",
      "})\n",
      "Dataset({\n",
      "    features: ['id', 'text_en'],\n",
      "    num_rows: 3643\n",
      "})\n"
     ]
    }
   ],
   "source": [
    "print(fleurs_dataset_id)\n",
    "print(fleurs_dataset_en)"
   ]
  },
  {
   "cell_type": "code",
   "execution_count": 9,
   "id": "c7e44c42-9827-48df-b692-e822aa2e8d60",
   "metadata": {},
   "outputs": [
    {
     "name": "stdout",
     "output_type": "stream",
     "text": [
      "3561\n"
     ]
    }
   ],
   "source": [
    "# Find how many columns that are intertwined\n",
    "counter = 0\n",
    "for idx in fleurs_dataset_id[\"id\"]:\n",
    "    if idx in fleurs_dataset_en[\"id\"]:\n",
    "        counter+=1\n",
    "print(counter)"
   ]
  },
  {
   "cell_type": "code",
   "execution_count": 10,
   "id": "b39d2186-f080-4d11-8dd9-632291ebc5fe",
   "metadata": {},
   "outputs": [
    {
     "data": {
      "text/plain": [
       "{'id': [2, 2, 2],\n",
       " 'audio': [{'path': 'train/3633734419227154.wav',\n",
       "   'array': array([0.        , 0.        , 0.        , ..., 0.00149804, 0.00070363,\n",
       "          0.00041729]),\n",
       "   'sampling_rate': 16000},\n",
       "  {'path': 'train/4977553378853742690.wav',\n",
       "   'array': array([ 0.00000000e+00, -1.78813934e-07, -8.34465027e-07, ...,\n",
       "          -1.28477812e-03, -1.85829401e-03, -1.56390667e-03]),\n",
       "   'sampling_rate': 16000},\n",
       "  {'path': 'train/9082789477530922497.wav',\n",
       "   'array': array([0.        , 0.        , 0.        , ..., 0.00513917, 0.00303674,\n",
       "          0.00273275]),\n",
       "   'sampling_rate': 16000}],\n",
       " 'text_indo': ['Ketua peneliti mengatakan bahwa diagnosis ini mungkin dapat menghasilkan deteksi dini kanker, tuberkulosis, HIV, dan malaria kepada pasien-pasien di negara berpenghasilan rendah, di mana tingkat kesembuhan dari penyakit-penyakit seperti kanker payudara bisa mencapai setengah dari negara-negara kaya.',\n",
       "  'Ketua peneliti mengatakan bahwa diagnosis ini mungkin dapat menghasilkan deteksi dini kanker, tuberkulosis, HIV, dan malaria kepada pasien-pasien di negara berpenghasilan rendah, di mana tingkat kesembuhan dari penyakit-penyakit seperti kanker payudara bisa mencapai setengah dari negara-negara kaya.',\n",
       "  'Ketua peneliti mengatakan bahwa diagnosis ini mungkin dapat menghasilkan deteksi dini kanker, tuberkulosis, HIV, dan malaria kepada pasien-pasien di negara berpenghasilan rendah, di mana tingkat kesembuhan dari penyakit-penyakit seperti kanker payudara bisa mencapai setengah dari negara-negara kaya.']}"
      ]
     },
     "execution_count": 10,
     "metadata": {},
     "output_type": "execute_result"
    }
   ],
   "source": [
    "# Identify duplicate id\n",
    "sorted_dataset_id = fleurs_dataset_id.sort(\"id\")\n",
    "sorted_dataset_id[1:4]"
   ]
  },
  {
   "cell_type": "code",
   "execution_count": 11,
   "id": "93d81836-7727-43da-ac54-bb9c9b01897b",
   "metadata": {},
   "outputs": [
    {
     "data": {
      "text/plain": [
       "{'id': [1, 1, 2],\n",
       " 'text_en': ['On Monday, scientists from the Stanford University School of Medicine announced the invention of a new diagnostic tool that can sort cells by type: a tiny printable chip that can be manufactured using standard inkjet printers for possibly about one U.S. cent each.',\n",
       "  'On Monday, scientists from the Stanford University School of Medicine announced the invention of a new diagnostic tool that can sort cells by type: a tiny printable chip that can be manufactured using standard inkjet printers for possibly about one U.S. cent each.',\n",
       "  'Lead researchers say this may bring early detection of cancer, tuberculosis, HIV and malaria to patients in low-income countries, where the survival rates for illnesses such as breast cancer can be half those of richer countries.']}"
      ]
     },
     "execution_count": 11,
     "metadata": {},
     "output_type": "execute_result"
    }
   ],
   "source": [
    "# Identify duplicate en\n",
    "sorted_dataset_en = fleurs_dataset_en.sort(\"id\")\n",
    "sorted_dataset_en[1:4]"
   ]
  },
  {
   "cell_type": "code",
   "execution_count": null,
   "id": "a598763f-4790-4d04-b43a-4cac82b40d4f",
   "metadata": {},
   "outputs": [],
   "source": []
  },
  {
   "cell_type": "markdown",
   "id": "f1e1cad1-cb04-46b9-bd80-64d488b9b803",
   "metadata": {},
   "source": [
    "### Convert to Pandas"
   ]
  },
  {
   "cell_type": "code",
   "execution_count": null,
   "id": "a692c1c8-200c-49be-9131-e83aa05260b8",
   "metadata": {
    "scrolled": true
   },
   "outputs": [],
   "source": []
  },
  {
   "cell_type": "code",
   "execution_count": 12,
   "id": "f5b14572-e0f6-4798-a1c5-e4bfa3620dfe",
   "metadata": {},
   "outputs": [],
   "source": [
    "sorted_dataset_en = fleurs_dataset_en.sort(\"id\")"
   ]
  },
  {
   "cell_type": "code",
   "execution_count": 13,
   "id": "8edec1be-1864-4756-9b27-46a32b375602",
   "metadata": {
    "scrolled": true
   },
   "outputs": [
    {
     "data": {
      "text/plain": [
       "True"
      ]
     },
     "execution_count": 13,
     "metadata": {},
     "output_type": "execute_result"
    }
   ],
   "source": [
    "sorted_dataset_en[\"text_en\"][3] ==  sorted_dataset_en[\"text_en\"][5]"
   ]
  },
  {
   "cell_type": "code",
   "execution_count": 14,
   "id": "29d3c3ce-8857-4fb7-ac8d-a0b0423658ff",
   "metadata": {},
   "outputs": [],
   "source": [
    "# Change Dataset format into pandas Dataframe\n",
    "df_id = sorted_dataset_id.to_pandas()"
   ]
  },
  {
   "cell_type": "code",
   "execution_count": 15,
   "id": "579a4cba-f8fc-4514-b301-47d9ad12b4f1",
   "metadata": {
    "scrolled": true
   },
   "outputs": [
    {
     "data": {
      "text/plain": [
       "(3616, 3)"
      ]
     },
     "execution_count": 15,
     "metadata": {},
     "output_type": "execute_result"
    }
   ],
   "source": [
    "df_id.shape"
   ]
  },
  {
   "cell_type": "code",
   "execution_count": 16,
   "id": "1171651d-79df-4c05-8385-5f258327bd72",
   "metadata": {},
   "outputs": [
    {
     "data": {
      "text/plain": [
       "id           3616\n",
       "audio        3616\n",
       "text_indo    3616\n",
       "dtype: int64"
      ]
     },
     "execution_count": 16,
     "metadata": {},
     "output_type": "execute_result"
    }
   ],
   "source": [
    "df_id.count()"
   ]
  },
  {
   "cell_type": "code",
   "execution_count": null,
   "id": "1a5ef296-1bc9-47bb-a2c4-c74501093ae7",
   "metadata": {},
   "outputs": [],
   "source": []
  },
  {
   "cell_type": "code",
   "execution_count": 17,
   "id": "e87b2f5a-92ea-44f2-8906-65a715935505",
   "metadata": {},
   "outputs": [
    {
     "data": {
      "text/html": [
       "<div>\n",
       "<style scoped>\n",
       "    .dataframe tbody tr th:only-of-type {\n",
       "        vertical-align: middle;\n",
       "    }\n",
       "\n",
       "    .dataframe tbody tr th {\n",
       "        vertical-align: top;\n",
       "    }\n",
       "\n",
       "    .dataframe thead th {\n",
       "        text-align: right;\n",
       "    }\n",
       "</style>\n",
       "<table border=\"1\" class=\"dataframe\">\n",
       "  <thead>\n",
       "    <tr style=\"text-align: right;\">\n",
       "      <th></th>\n",
       "      <th>id</th>\n",
       "      <th>audio</th>\n",
       "      <th>text_indo</th>\n",
       "    </tr>\n",
       "  </thead>\n",
       "  <tbody>\n",
       "    <tr>\n",
       "      <th>0</th>\n",
       "      <td>1</td>\n",
       "      <td>{'bytes': b'RIFF2\\x91\\x14\\x00WAVEfmt \\x12\\x00\\...</td>\n",
       "      <td>Ilmuwan dari Stanford University School of Med...</td>\n",
       "    </tr>\n",
       "    <tr>\n",
       "      <th>1</th>\n",
       "      <td>2</td>\n",
       "      <td>{'bytes': b'RIFF2\\x7f\\x17\\x00WAVEfmt \\x12\\x00\\...</td>\n",
       "      <td>Ketua peneliti mengatakan bahwa diagnosis ini ...</td>\n",
       "    </tr>\n",
       "    <tr>\n",
       "      <th>2</th>\n",
       "      <td>2</td>\n",
       "      <td>{'bytes': b'RIFF2\\n\\x14\\x00WAVEfmt \\x12\\x00\\x0...</td>\n",
       "      <td>Ketua peneliti mengatakan bahwa diagnosis ini ...</td>\n",
       "    </tr>\n",
       "    <tr>\n",
       "      <th>3</th>\n",
       "      <td>2</td>\n",
       "      <td>{'bytes': b'RIFF2)\\x13\\x00WAVEfmt \\x12\\x00\\x00...</td>\n",
       "      <td>Ketua peneliti mengatakan bahwa diagnosis ini ...</td>\n",
       "    </tr>\n",
       "    <tr>\n",
       "      <th>4</th>\n",
       "      <td>3</td>\n",
       "      <td>{'bytes': b'RIFF2*\\x12\\x00WAVEfmt \\x12\\x00\\x00...</td>\n",
       "      <td>JAS 39C Gripen jatuh ke landasan pacu sekitar ...</td>\n",
       "    </tr>\n",
       "  </tbody>\n",
       "</table>\n",
       "</div>"
      ],
      "text/plain": [
       "   id                                              audio  \\\n",
       "0   1  {'bytes': b'RIFF2\\x91\\x14\\x00WAVEfmt \\x12\\x00\\...   \n",
       "1   2  {'bytes': b'RIFF2\\x7f\\x17\\x00WAVEfmt \\x12\\x00\\...   \n",
       "2   2  {'bytes': b'RIFF2\\n\\x14\\x00WAVEfmt \\x12\\x00\\x0...   \n",
       "3   2  {'bytes': b'RIFF2)\\x13\\x00WAVEfmt \\x12\\x00\\x00...   \n",
       "4   3  {'bytes': b'RIFF2*\\x12\\x00WAVEfmt \\x12\\x00\\x00...   \n",
       "\n",
       "                                           text_indo  \n",
       "0  Ilmuwan dari Stanford University School of Med...  \n",
       "1  Ketua peneliti mengatakan bahwa diagnosis ini ...  \n",
       "2  Ketua peneliti mengatakan bahwa diagnosis ini ...  \n",
       "3  Ketua peneliti mengatakan bahwa diagnosis ini ...  \n",
       "4  JAS 39C Gripen jatuh ke landasan pacu sekitar ...  "
      ]
     },
     "execution_count": 17,
     "metadata": {},
     "output_type": "execute_result"
    }
   ],
   "source": [
    "df_id.head()"
   ]
  },
  {
   "cell_type": "code",
   "execution_count": 18,
   "id": "4d8cf3a3-c738-4627-a0aa-9eed735aed95",
   "metadata": {},
   "outputs": [],
   "source": [
    "# Change Dataset format into pandas Dataframe\n",
    "df_en = sorted_dataset_en.to_pandas()\n",
    "#drop the duplicate id since it's only text\n",
    "df_en = df_en.drop_duplicates(subset=[\"id\"], keep=\"first\").reset_index(drop=True)"
   ]
  },
  {
   "cell_type": "code",
   "execution_count": 19,
   "id": "56d229f0-3f90-425c-86b2-ad61cf8ae8e0",
   "metadata": {},
   "outputs": [
    {
     "data": {
      "text/html": [
       "<div>\n",
       "<style scoped>\n",
       "    .dataframe tbody tr th:only-of-type {\n",
       "        vertical-align: middle;\n",
       "    }\n",
       "\n",
       "    .dataframe tbody tr th {\n",
       "        vertical-align: top;\n",
       "    }\n",
       "\n",
       "    .dataframe thead th {\n",
       "        text-align: right;\n",
       "    }\n",
       "</style>\n",
       "<table border=\"1\" class=\"dataframe\">\n",
       "  <thead>\n",
       "    <tr style=\"text-align: right;\">\n",
       "      <th></th>\n",
       "      <th>id</th>\n",
       "      <th>text_en</th>\n",
       "    </tr>\n",
       "  </thead>\n",
       "  <tbody>\n",
       "    <tr>\n",
       "      <th>0</th>\n",
       "      <td>1</td>\n",
       "      <td>On Monday, scientists from the Stanford Univer...</td>\n",
       "    </tr>\n",
       "    <tr>\n",
       "      <th>1</th>\n",
       "      <td>2</td>\n",
       "      <td>Lead researchers say this may bring early dete...</td>\n",
       "    </tr>\n",
       "    <tr>\n",
       "      <th>2</th>\n",
       "      <td>3</td>\n",
       "      <td>The JAS 39C Gripen crashed onto a runway at ar...</td>\n",
       "    </tr>\n",
       "    <tr>\n",
       "      <th>3</th>\n",
       "      <td>4</td>\n",
       "      <td>The pilot was identified as Squadron Leader Di...</td>\n",
       "    </tr>\n",
       "    <tr>\n",
       "      <th>4</th>\n",
       "      <td>5</td>\n",
       "      <td>Local media reports an airport fire vehicle ro...</td>\n",
       "    </tr>\n",
       "  </tbody>\n",
       "</table>\n",
       "</div>"
      ],
      "text/plain": [
       "   id                                            text_en\n",
       "0   1  On Monday, scientists from the Stanford Univer...\n",
       "1   2  Lead researchers say this may bring early dete...\n",
       "2   3  The JAS 39C Gripen crashed onto a runway at ar...\n",
       "3   4  The pilot was identified as Squadron Leader Di...\n",
       "4   5  Local media reports an airport fire vehicle ro..."
      ]
     },
     "execution_count": 19,
     "metadata": {},
     "output_type": "execute_result"
    }
   ],
   "source": [
    "df_en.head()"
   ]
  },
  {
   "cell_type": "code",
   "execution_count": 20,
   "id": "f90f85ec-4764-4d95-8168-6a238912fea8",
   "metadata": {},
   "outputs": [
    {
     "data": {
      "text/plain": [
       "(1976, 2)"
      ]
     },
     "execution_count": 20,
     "metadata": {},
     "output_type": "execute_result"
    }
   ],
   "source": [
    "df_en.shape"
   ]
  },
  {
   "cell_type": "markdown",
   "id": "3caf2213-58bb-4fc6-b95a-56efc464b24c",
   "metadata": {},
   "source": [
    "### Merge the two Dataframe that has the same id"
   ]
  },
  {
   "cell_type": "code",
   "execution_count": null,
   "id": "0bff0090-84a8-49cd-a843-94833cca9da6",
   "metadata": {},
   "outputs": [],
   "source": []
  },
  {
   "cell_type": "code",
   "execution_count": 62,
   "id": "144a8e00-b97d-4959-ae44-192bbd72647b",
   "metadata": {},
   "outputs": [],
   "source": [
    "df_merge = pd.merge(df_id, df_en, how=\"left\", on=\"id\")"
   ]
  },
  {
   "cell_type": "code",
   "execution_count": 63,
   "id": "489bf1c3-6554-4db9-b95b-e4e31b9207b3",
   "metadata": {},
   "outputs": [
    {
     "data": {
      "text/html": [
       "<div>\n",
       "<style scoped>\n",
       "    .dataframe tbody tr th:only-of-type {\n",
       "        vertical-align: middle;\n",
       "    }\n",
       "\n",
       "    .dataframe tbody tr th {\n",
       "        vertical-align: top;\n",
       "    }\n",
       "\n",
       "    .dataframe thead th {\n",
       "        text-align: right;\n",
       "    }\n",
       "</style>\n",
       "<table border=\"1\" class=\"dataframe\">\n",
       "  <thead>\n",
       "    <tr style=\"text-align: right;\">\n",
       "      <th></th>\n",
       "      <th>id</th>\n",
       "      <th>audio</th>\n",
       "      <th>text_indo</th>\n",
       "      <th>text_en</th>\n",
       "    </tr>\n",
       "  </thead>\n",
       "  <tbody>\n",
       "    <tr>\n",
       "      <th>0</th>\n",
       "      <td>1</td>\n",
       "      <td>{'bytes': b'RIFF2\\x91\\x14\\x00WAVEfmt \\x12\\x00\\...</td>\n",
       "      <td>Ilmuwan dari Stanford University School of Med...</td>\n",
       "      <td>On Monday, scientists from the Stanford Univer...</td>\n",
       "    </tr>\n",
       "    <tr>\n",
       "      <th>1</th>\n",
       "      <td>2</td>\n",
       "      <td>{'bytes': b'RIFF2\\x7f\\x17\\x00WAVEfmt \\x12\\x00\\...</td>\n",
       "      <td>Ketua peneliti mengatakan bahwa diagnosis ini ...</td>\n",
       "      <td>Lead researchers say this may bring early dete...</td>\n",
       "    </tr>\n",
       "    <tr>\n",
       "      <th>2</th>\n",
       "      <td>2</td>\n",
       "      <td>{'bytes': b'RIFF2\\n\\x14\\x00WAVEfmt \\x12\\x00\\x0...</td>\n",
       "      <td>Ketua peneliti mengatakan bahwa diagnosis ini ...</td>\n",
       "      <td>Lead researchers say this may bring early dete...</td>\n",
       "    </tr>\n",
       "    <tr>\n",
       "      <th>3</th>\n",
       "      <td>2</td>\n",
       "      <td>{'bytes': b'RIFF2)\\x13\\x00WAVEfmt \\x12\\x00\\x00...</td>\n",
       "      <td>Ketua peneliti mengatakan bahwa diagnosis ini ...</td>\n",
       "      <td>Lead researchers say this may bring early dete...</td>\n",
       "    </tr>\n",
       "    <tr>\n",
       "      <th>4</th>\n",
       "      <td>3</td>\n",
       "      <td>{'bytes': b'RIFF2*\\x12\\x00WAVEfmt \\x12\\x00\\x00...</td>\n",
       "      <td>JAS 39C Gripen jatuh ke landasan pacu sekitar ...</td>\n",
       "      <td>The JAS 39C Gripen crashed onto a runway at ar...</td>\n",
       "    </tr>\n",
       "  </tbody>\n",
       "</table>\n",
       "</div>"
      ],
      "text/plain": [
       "   id                                              audio  \\\n",
       "0   1  {'bytes': b'RIFF2\\x91\\x14\\x00WAVEfmt \\x12\\x00\\...   \n",
       "1   2  {'bytes': b'RIFF2\\x7f\\x17\\x00WAVEfmt \\x12\\x00\\...   \n",
       "2   2  {'bytes': b'RIFF2\\n\\x14\\x00WAVEfmt \\x12\\x00\\x0...   \n",
       "3   2  {'bytes': b'RIFF2)\\x13\\x00WAVEfmt \\x12\\x00\\x00...   \n",
       "4   3  {'bytes': b'RIFF2*\\x12\\x00WAVEfmt \\x12\\x00\\x00...   \n",
       "\n",
       "                                           text_indo  \\\n",
       "0  Ilmuwan dari Stanford University School of Med...   \n",
       "1  Ketua peneliti mengatakan bahwa diagnosis ini ...   \n",
       "2  Ketua peneliti mengatakan bahwa diagnosis ini ...   \n",
       "3  Ketua peneliti mengatakan bahwa diagnosis ini ...   \n",
       "4  JAS 39C Gripen jatuh ke landasan pacu sekitar ...   \n",
       "\n",
       "                                             text_en  \n",
       "0  On Monday, scientists from the Stanford Univer...  \n",
       "1  Lead researchers say this may bring early dete...  \n",
       "2  Lead researchers say this may bring early dete...  \n",
       "3  Lead researchers say this may bring early dete...  \n",
       "4  The JAS 39C Gripen crashed onto a runway at ar...  "
      ]
     },
     "execution_count": 63,
     "metadata": {},
     "output_type": "execute_result"
    }
   ],
   "source": [
    "df_merge\n",
    "df_merge.head()"
   ]
  },
  {
   "cell_type": "code",
   "execution_count": 64,
   "id": "7bc3fb7a-9f64-4a5e-9a04-d393ab5fdfd5",
   "metadata": {},
   "outputs": [
    {
     "data": {
      "text/html": [
       "<div>\n",
       "<style scoped>\n",
       "    .dataframe tbody tr th:only-of-type {\n",
       "        vertical-align: middle;\n",
       "    }\n",
       "\n",
       "    .dataframe tbody tr th {\n",
       "        vertical-align: top;\n",
       "    }\n",
       "\n",
       "    .dataframe thead th {\n",
       "        text-align: right;\n",
       "    }\n",
       "</style>\n",
       "<table border=\"1\" class=\"dataframe\">\n",
       "  <thead>\n",
       "    <tr style=\"text-align: right;\">\n",
       "      <th></th>\n",
       "      <th>id</th>\n",
       "      <th>audio</th>\n",
       "      <th>text_indo</th>\n",
       "      <th>text_en</th>\n",
       "    </tr>\n",
       "  </thead>\n",
       "  <tbody>\n",
       "    <tr>\n",
       "      <th>109</th>\n",
       "      <td>49</td>\n",
       "      <td>{'bytes': b'RIFF2\\x1f\\x0e\\x00WAVEfmt \\x12\\x00\\...</td>\n",
       "      <td>Tuan Reid berhasil mengemudikan mobil A1 GP mi...</td>\n",
       "      <td>NaN</td>\n",
       "    </tr>\n",
       "    <tr>\n",
       "      <th>110</th>\n",
       "      <td>49</td>\n",
       "      <td>{'bytes': b'RIFF2\\x97\\x0e\\x00WAVEfmt \\x12\\x00\\...</td>\n",
       "      <td>Tuan Reid berhasil mengemudikan mobil A1 GP mi...</td>\n",
       "      <td>NaN</td>\n",
       "    </tr>\n",
       "    <tr>\n",
       "      <th>215</th>\n",
       "      <td>102</td>\n",
       "      <td>{'bytes': b'RIFF2\\x9d\\x08\\x00WAVEfmt \\x12\\x00\\...</td>\n",
       "      <td>Lubang tangki masih bocor hingga Rabu sore, ke...</td>\n",
       "      <td>NaN</td>\n",
       "    </tr>\n",
       "    <tr>\n",
       "      <th>216</th>\n",
       "      <td>102</td>\n",
       "      <td>{'bytes': b'RIFF2\\xc6\\x0c\\x00WAVEfmt \\x12\\x00\\...</td>\n",
       "      <td>Lubang tangki masih bocor hingga Rabu sore, ke...</td>\n",
       "      <td>NaN</td>\n",
       "    </tr>\n",
       "    <tr>\n",
       "      <th>459</th>\n",
       "      <td>249</td>\n",
       "      <td>{'bytes': b'RIFF2\\x9c\\t\\x00WAVEfmt \\x12\\x00\\x0...</td>\n",
       "      <td>Sebuah losmen ambruk di Makkah, kota suci Isla...</td>\n",
       "      <td>NaN</td>\n",
       "    </tr>\n",
       "    <tr>\n",
       "      <th>460</th>\n",
       "      <td>249</td>\n",
       "      <td>{'bytes': b'RIFF2q\\x07\\x00WAVEfmt \\x12\\x00\\x00...</td>\n",
       "      <td>Sebuah losmen ambruk di Makkah, kota suci Isla...</td>\n",
       "      <td>NaN</td>\n",
       "    </tr>\n",
       "    <tr>\n",
       "      <th>490</th>\n",
       "      <td>267</td>\n",
       "      <td>{'bytes': b'RIFF2\\xda\\x07\\x00WAVEfmt \\x12\\x00\\...</td>\n",
       "      <td>Kontrol darat Rusia mengaktifkan jet-jet terse...</td>\n",
       "      <td>NaN</td>\n",
       "    </tr>\n",
       "    <tr>\n",
       "      <th>491</th>\n",
       "      <td>267</td>\n",
       "      <td>{'bytes': b'RIFF2p\\x08\\x00WAVEfmt \\x12\\x00\\x00...</td>\n",
       "      <td>Kontrol darat Rusia mengaktifkan jet-jet terse...</td>\n",
       "      <td>NaN</td>\n",
       "    </tr>\n",
       "    <tr>\n",
       "      <th>532</th>\n",
       "      <td>291</td>\n",
       "      <td>{'bytes': b'RIFF2\\xbb\\x08\\x00WAVEfmt \\x12\\x00\\...</td>\n",
       "      <td>Kantor Meteorologi Islandia juga melaporkan ba...</td>\n",
       "      <td>NaN</td>\n",
       "    </tr>\n",
       "    <tr>\n",
       "      <th>533</th>\n",
       "      <td>291</td>\n",
       "      <td>{'bytes': b'RIFF2x\\x0f\\x00WAVEfmt \\x12\\x00\\x00...</td>\n",
       "      <td>Kantor Meteorologi Islandia juga melaporkan ba...</td>\n",
       "      <td>NaN</td>\n",
       "    </tr>\n",
       "    <tr>\n",
       "      <th>559</th>\n",
       "      <td>306</td>\n",
       "      <td>{'bytes': b'RIFF2Z\\x0f\\x00WAVEfmt \\x12\\x00\\x00...</td>\n",
       "      <td>Judoka Jepang Hitoshi Saito, pemenang dua meda...</td>\n",
       "      <td>NaN</td>\n",
       "    </tr>\n",
       "    <tr>\n",
       "      <th>560</th>\n",
       "      <td>306</td>\n",
       "      <td>{'bytes': b'RIFF2\\xbc\\x07\\x00WAVEfmt \\x12\\x00\\...</td>\n",
       "      <td>Judoka Jepang Hitoshi Saito, pemenang dua meda...</td>\n",
       "      <td>NaN</td>\n",
       "    </tr>\n",
       "    <tr>\n",
       "      <th>613</th>\n",
       "      <td>335</td>\n",
       "      <td>{'bytes': b'RIFF2\\xcd\\x05\\x00WAVEfmt \\x12\\x00\\...</td>\n",
       "      <td>Kemudian Whirling Dervishes naik ke atas pangg...</td>\n",
       "      <td>NaN</td>\n",
       "    </tr>\n",
       "    <tr>\n",
       "      <th>614</th>\n",
       "      <td>335</td>\n",
       "      <td>{'bytes': b'RIFF2\\xbd\\x06\\x00WAVEfmt \\x12\\x00\\...</td>\n",
       "      <td>Kemudian Whirling Dervishes naik ke atas pangg...</td>\n",
       "      <td>NaN</td>\n",
       "    </tr>\n",
       "    <tr>\n",
       "      <th>653</th>\n",
       "      <td>358</td>\n",
       "      <td>{'bytes': b'RIFF2a\\x08\\x00WAVEfmt \\x12\\x00\\x00...</td>\n",
       "      <td>Untuk kembali ke tingkat energi sebelumnya, at...</td>\n",
       "      <td>NaN</td>\n",
       "    </tr>\n",
       "    <tr>\n",
       "      <th>654</th>\n",
       "      <td>358</td>\n",
       "      <td>{'bytes': b'RIFF2|\\x0b\\x00WAVEfmt \\x12\\x00\\x00...</td>\n",
       "      <td>Untuk kembali ke tingkat energi sebelumnya, at...</td>\n",
       "      <td>NaN</td>\n",
       "    </tr>\n",
       "    <tr>\n",
       "      <th>766</th>\n",
       "      <td>426</td>\n",
       "      <td>{'bytes': b'RIFF2x\\x0f\\x00WAVEfmt \\x12\\x00\\x00...</td>\n",
       "      <td>Namun, Charles berkuliah di Trinity College, C...</td>\n",
       "      <td>NaN</td>\n",
       "    </tr>\n",
       "    <tr>\n",
       "      <th>804</th>\n",
       "      <td>449</td>\n",
       "      <td>{'bytes': b'RIFF2X\\x11\\x00WAVEfmt \\x12\\x00\\x00...</td>\n",
       "      <td>Setiap tahun sekitar bulan Oktober, hampir 1,5...</td>\n",
       "      <td>NaN</td>\n",
       "    </tr>\n",
       "    <tr>\n",
       "      <th>805</th>\n",
       "      <td>449</td>\n",
       "      <td>{'bytes': b'RIFF2\\xe2\\x0e\\x00WAVEfmt \\x12\\x00\\...</td>\n",
       "      <td>Setiap tahun sekitar bulan Oktober, hampir 1,5...</td>\n",
       "      <td>NaN</td>\n",
       "    </tr>\n",
       "    <tr>\n",
       "      <th>808</th>\n",
       "      <td>451</td>\n",
       "      <td>{'bytes': b'RIFF2\\xd3\\x0e\\x00WAVEfmt \\x12\\x00\\...</td>\n",
       "      <td>Wilayah Serengeti terdiri dari Taman Nasional ...</td>\n",
       "      <td>NaN</td>\n",
       "    </tr>\n",
       "    <tr>\n",
       "      <th>833</th>\n",
       "      <td>466</td>\n",
       "      <td>{'bytes': b'RIFF2\\x17\\x16\\x00WAVEfmt \\x12\\x00\\...</td>\n",
       "      <td>Bahkan saat berdiri di tengah reruntuhan berus...</td>\n",
       "      <td>NaN</td>\n",
       "    </tr>\n",
       "    <tr>\n",
       "      <th>834</th>\n",
       "      <td>466</td>\n",
       "      <td>{'bytes': b'RIFF2\\xc9\\x18\\x00WAVEfmt \\x12\\x00\\...</td>\n",
       "      <td>Bahkan saat berdiri di tengah reruntuhan berus...</td>\n",
       "      <td>NaN</td>\n",
       "    </tr>\n",
       "    <tr>\n",
       "      <th>1022</th>\n",
       "      <td>580</td>\n",
       "      <td>{'bytes': b'RIFF2 \\r\\x00WAVEfmt \\x12\\x00\\x00\\x...</td>\n",
       "      <td>Sistem Saraf mempertahankan homeostasis dengan...</td>\n",
       "      <td>NaN</td>\n",
       "    </tr>\n",
       "    <tr>\n",
       "      <th>1029</th>\n",
       "      <td>584</td>\n",
       "      <td>{'bytes': b'RIFF2\\x0e\\x10\\x00WAVEfmt \\x12\\x00\\...</td>\n",
       "      <td>Badai berkekuatan besar ini memiliki kecepatan...</td>\n",
       "      <td>NaN</td>\n",
       "    </tr>\n",
       "    <tr>\n",
       "      <th>1030</th>\n",
       "      <td>584</td>\n",
       "      <td>{'bytes': b'RIFF2k\\r\\x00WAVEfmt \\x12\\x00\\x00\\x...</td>\n",
       "      <td>Badai berkekuatan besar ini memiliki kecepatan...</td>\n",
       "      <td>NaN</td>\n",
       "    </tr>\n",
       "    <tr>\n",
       "      <th>1080</th>\n",
       "      <td>615</td>\n",
       "      <td>{'bytes': b'RIFF2\\xb7\\x0c\\x00WAVEfmt \\x12\\x00\\...</td>\n",
       "      <td>Teori tersebut kemudian mengawali gagasan bahw...</td>\n",
       "      <td>NaN</td>\n",
       "    </tr>\n",
       "    <tr>\n",
       "      <th>1253</th>\n",
       "      <td>720</td>\n",
       "      <td>{'bytes': b'RIFF2\\x1b\\x12\\x00WAVEfmt \\x12\\x00\\...</td>\n",
       "      <td>Republik Dominika (Spanyol: RepÃºblica Dominic...</td>\n",
       "      <td>NaN</td>\n",
       "    </tr>\n",
       "    <tr>\n",
       "      <th>1420</th>\n",
       "      <td>820</td>\n",
       "      <td>{'bytes': b'RIFF2\\xde\\x12\\x00WAVEfmt \\x12\\x00\\...</td>\n",
       "      <td>\"Saat Anda berwisata, perkirakan segala sesuat...</td>\n",
       "      <td>NaN</td>\n",
       "    </tr>\n",
       "    <tr>\n",
       "      <th>1421</th>\n",
       "      <td>820</td>\n",
       "      <td>{'bytes': b'RIFF2\\xc1\\x11\\x00WAVEfmt \\x12\\x00\\...</td>\n",
       "      <td>\"Saat Anda berwisata, perkirakan segala sesuat...</td>\n",
       "      <td>NaN</td>\n",
       "    </tr>\n",
       "    <tr>\n",
       "      <th>1542</th>\n",
       "      <td>893</td>\n",
       "      <td>{'bytes': b'RIFF2\\x10\\x0e\\x00WAVEfmt \\x12\\x00\\...</td>\n",
       "      <td>Ini adalah salju yang dipadatkan dengan celah-...</td>\n",
       "      <td>NaN</td>\n",
       "    </tr>\n",
       "    <tr>\n",
       "      <th>1543</th>\n",
       "      <td>893</td>\n",
       "      <td>{'bytes': b'RIFF2\\xfd\\x11\\x00WAVEfmt \\x12\\x00\\...</td>\n",
       "      <td>Ini adalah salju yang dipadatkan dengan celah-...</td>\n",
       "      <td>NaN</td>\n",
       "    </tr>\n",
       "    <tr>\n",
       "      <th>1547</th>\n",
       "      <td>897</td>\n",
       "      <td>{'bytes': b'RIFF2l\\x0c\\x00WAVEfmt \\x12\\x00\\x00...</td>\n",
       "      <td>Polanya harus cukup dalam, 5 mm (1/5 inci) ata...</td>\n",
       "      <td>NaN</td>\n",
       "    </tr>\n",
       "    <tr>\n",
       "      <th>1680</th>\n",
       "      <td>978</td>\n",
       "      <td>{'bytes': b'RIFF2\\x13\\x0b\\x00WAVEfmt \\x12\\x00\\...</td>\n",
       "      <td>Ini berbeda dengan lingua franca, yang merupak...</td>\n",
       "      <td>NaN</td>\n",
       "    </tr>\n",
       "    <tr>\n",
       "      <th>1681</th>\n",
       "      <td>978</td>\n",
       "      <td>{'bytes': b'RIFF2\\x88\\x0e\\x00WAVEfmt \\x12\\x00\\...</td>\n",
       "      <td>Ini berbeda dengan lingua franca, yang merupak...</td>\n",
       "      <td>NaN</td>\n",
       "    </tr>\n",
       "    <tr>\n",
       "      <th>1690</th>\n",
       "      <td>983</td>\n",
       "      <td>{'bytes': b'RIFF2k\\r\\x00WAVEfmt \\x12\\x00\\x00\\x...</td>\n",
       "      <td>Bahkan bila Anda berkendara melintasi hutan hu...</td>\n",
       "      <td>NaN</td>\n",
       "    </tr>\n",
       "    <tr>\n",
       "      <th>1691</th>\n",
       "      <td>983</td>\n",
       "      <td>{'bytes': b'RIFF2\\r\\x11\\x00WAVEfmt \\x12\\x00\\x0...</td>\n",
       "      <td>Bahkan bila Anda berkendara melintasi hutan hu...</td>\n",
       "      <td>NaN</td>\n",
       "    </tr>\n",
       "    <tr>\n",
       "      <th>1744</th>\n",
       "      <td>1016</td>\n",
       "      <td>{'bytes': b'RIFF2\\xba\\t\\x00WAVEfmt \\x12\\x00\\x0...</td>\n",
       "      <td>Ukuran atom luar biasa kecil sehingga titik di...</td>\n",
       "      <td>NaN</td>\n",
       "    </tr>\n",
       "    <tr>\n",
       "      <th>1745</th>\n",
       "      <td>1016</td>\n",
       "      <td>{'bytes': b'RIFF2\\x8c\\n\\x00WAVEfmt \\x12\\x00\\x0...</td>\n",
       "      <td>Ukuran atom luar biasa kecil sehingga titik di...</td>\n",
       "      <td>NaN</td>\n",
       "    </tr>\n",
       "    <tr>\n",
       "      <th>1827</th>\n",
       "      <td>1065</td>\n",
       "      <td>{'bytes': b'RIFF2\\xb1\\x12\\x00WAVEfmt \\x12\\x00\\...</td>\n",
       "      <td>Bagi orang Australia, gagasan kopi 'flat white...</td>\n",
       "      <td>NaN</td>\n",
       "    </tr>\n",
       "    <tr>\n",
       "      <th>1828</th>\n",
       "      <td>1065</td>\n",
       "      <td>{'bytes': b'RIFF2,\\x10\\x00WAVEfmt \\x12\\x00\\x00...</td>\n",
       "      <td>Bagi orang Australia, gagasan kopi 'flat white...</td>\n",
       "      <td>NaN</td>\n",
       "    </tr>\n",
       "    <tr>\n",
       "      <th>1849</th>\n",
       "      <td>1080</td>\n",
       "      <td>{'bytes': b'RIFF2\\xe3\\r\\x00WAVEfmt \\x12\\x00\\x0...</td>\n",
       "      <td>\"Kisah yang dihadirkan dalam opera Prancis, ol...</td>\n",
       "      <td>NaN</td>\n",
       "    </tr>\n",
       "    <tr>\n",
       "      <th>1850</th>\n",
       "      <td>1080</td>\n",
       "      <td>{'bytes': b'RIFF2\\xe3\\r\\x00WAVEfmt \\x12\\x00\\x0...</td>\n",
       "      <td>\"Kisah yang dihadirkan dalam opera Prancis, ol...</td>\n",
       "      <td>NaN</td>\n",
       "    </tr>\n",
       "    <tr>\n",
       "      <th>2018</th>\n",
       "      <td>1181</td>\n",
       "      <td>{'bytes': b'RIFF2l\\x0c\\x00WAVEfmt \\x12\\x00\\x00...</td>\n",
       "      <td>Awal mula Taiwan dimulai jauh sejak abad ke-15...</td>\n",
       "      <td>NaN</td>\n",
       "    </tr>\n",
       "    <tr>\n",
       "      <th>2019</th>\n",
       "      <td>1181</td>\n",
       "      <td>{'bytes': b'RIFF2\\xa5\\x0f\\x00WAVEfmt \\x12\\x00\\...</td>\n",
       "      <td>Awal mula Taiwan dimulai jauh sejak abad ke-15...</td>\n",
       "      <td>NaN</td>\n",
       "    </tr>\n",
       "    <tr>\n",
       "      <th>2076</th>\n",
       "      <td>1216</td>\n",
       "      <td>{'bytes': b'RIFF2\\xb6\\r\\x00WAVEfmt \\x12\\x00\\x0...</td>\n",
       "      <td>Pantai North Shore (masuk dalam wilayah distri...</td>\n",
       "      <td>NaN</td>\n",
       "    </tr>\n",
       "    <tr>\n",
       "      <th>2077</th>\n",
       "      <td>1216</td>\n",
       "      <td>{'bytes': b'RIFF2\\x98\\r\\x00WAVEfmt \\x12\\x00\\x0...</td>\n",
       "      <td>Pantai North Shore (masuk dalam wilayah distri...</td>\n",
       "      <td>NaN</td>\n",
       "    </tr>\n",
       "    <tr>\n",
       "      <th>2128</th>\n",
       "      <td>1250</td>\n",
       "      <td>{'bytes': b'RIFF2\\x9c\\t\\x00WAVEfmt \\x12\\x00\\x0...</td>\n",
       "      <td>Format 35 mm sebenarnya, agak membingungkan, m...</td>\n",
       "      <td>NaN</td>\n",
       "    </tr>\n",
       "    <tr>\n",
       "      <th>2129</th>\n",
       "      <td>1250</td>\n",
       "      <td>{'bytes': b'RIFF2#\\n\\x00WAVEfmt \\x12\\x00\\x00\\x...</td>\n",
       "      <td>Format 35 mm sebenarnya, agak membingungkan, m...</td>\n",
       "      <td>NaN</td>\n",
       "    </tr>\n",
       "    <tr>\n",
       "      <th>2149</th>\n",
       "      <td>1261</td>\n",
       "      <td>{'bytes': b'RIFF24\\x08\\x00WAVEfmt \\x12\\x00\\x00...</td>\n",
       "      <td>Keharmonisan tempat kerja sangatlah penting, y...</td>\n",
       "      <td>NaN</td>\n",
       "    </tr>\n",
       "    <tr>\n",
       "      <th>2150</th>\n",
       "      <td>1261</td>\n",
       "      <td>{'bytes': b'RIFF2P\\n\\x00WAVEfmt \\x12\\x00\\x00\\x...</td>\n",
       "      <td>Keharmonisan tempat kerja sangatlah penting, y...</td>\n",
       "      <td>NaN</td>\n",
       "    </tr>\n",
       "    <tr>\n",
       "      <th>2222</th>\n",
       "      <td>1303</td>\n",
       "      <td>{'bytes': b'RIFF2\\xa5\\x0f\\x00WAVEfmt \\x12\\x00\\...</td>\n",
       "      <td>Ia dirampok oleh bajak laut, diserang di Tibet...</td>\n",
       "      <td>NaN</td>\n",
       "    </tr>\n",
       "    <tr>\n",
       "      <th>2223</th>\n",
       "      <td>1303</td>\n",
       "      <td>{'bytes': b'RIFF2\\x10\\x0e\\x00WAVEfmt \\x12\\x00\\...</td>\n",
       "      <td>Ia dirampok oleh bajak laut, diserang di Tibet...</td>\n",
       "      <td>NaN</td>\n",
       "    </tr>\n",
       "    <tr>\n",
       "      <th>2230</th>\n",
       "      <td>1307</td>\n",
       "      <td>{'bytes': b'RIFF2\\x1c\\x11\\x00WAVEfmt \\x12\\x00\\...</td>\n",
       "      <td>Walau pembangunan piramida dengan batu berlanj...</td>\n",
       "      <td>NaN</td>\n",
       "    </tr>\n",
       "    <tr>\n",
       "      <th>2348</th>\n",
       "      <td>1375</td>\n",
       "      <td>{'bytes': b'RIFF2X\\x11\\x00WAVEfmt \\x12\\x00\\x00...</td>\n",
       "      <td>Up artinya Anda harus mulai dari ujung dan men...</td>\n",
       "      <td>NaN</td>\n",
       "    </tr>\n",
       "    <tr>\n",
       "      <th>2349</th>\n",
       "      <td>1375</td>\n",
       "      <td>{'bytes': b'RIFF2\\xff\\x0f\\x00WAVEfmt \\x12\\x00\\...</td>\n",
       "      <td>Up artinya Anda harus mulai dari ujung dan men...</td>\n",
       "      <td>NaN</td>\n",
       "    </tr>\n",
       "  </tbody>\n",
       "</table>\n",
       "</div>"
      ],
      "text/plain": [
       "        id                                              audio  \\\n",
       "109     49  {'bytes': b'RIFF2\\x1f\\x0e\\x00WAVEfmt \\x12\\x00\\...   \n",
       "110     49  {'bytes': b'RIFF2\\x97\\x0e\\x00WAVEfmt \\x12\\x00\\...   \n",
       "215    102  {'bytes': b'RIFF2\\x9d\\x08\\x00WAVEfmt \\x12\\x00\\...   \n",
       "216    102  {'bytes': b'RIFF2\\xc6\\x0c\\x00WAVEfmt \\x12\\x00\\...   \n",
       "459    249  {'bytes': b'RIFF2\\x9c\\t\\x00WAVEfmt \\x12\\x00\\x0...   \n",
       "460    249  {'bytes': b'RIFF2q\\x07\\x00WAVEfmt \\x12\\x00\\x00...   \n",
       "490    267  {'bytes': b'RIFF2\\xda\\x07\\x00WAVEfmt \\x12\\x00\\...   \n",
       "491    267  {'bytes': b'RIFF2p\\x08\\x00WAVEfmt \\x12\\x00\\x00...   \n",
       "532    291  {'bytes': b'RIFF2\\xbb\\x08\\x00WAVEfmt \\x12\\x00\\...   \n",
       "533    291  {'bytes': b'RIFF2x\\x0f\\x00WAVEfmt \\x12\\x00\\x00...   \n",
       "559    306  {'bytes': b'RIFF2Z\\x0f\\x00WAVEfmt \\x12\\x00\\x00...   \n",
       "560    306  {'bytes': b'RIFF2\\xbc\\x07\\x00WAVEfmt \\x12\\x00\\...   \n",
       "613    335  {'bytes': b'RIFF2\\xcd\\x05\\x00WAVEfmt \\x12\\x00\\...   \n",
       "614    335  {'bytes': b'RIFF2\\xbd\\x06\\x00WAVEfmt \\x12\\x00\\...   \n",
       "653    358  {'bytes': b'RIFF2a\\x08\\x00WAVEfmt \\x12\\x00\\x00...   \n",
       "654    358  {'bytes': b'RIFF2|\\x0b\\x00WAVEfmt \\x12\\x00\\x00...   \n",
       "766    426  {'bytes': b'RIFF2x\\x0f\\x00WAVEfmt \\x12\\x00\\x00...   \n",
       "804    449  {'bytes': b'RIFF2X\\x11\\x00WAVEfmt \\x12\\x00\\x00...   \n",
       "805    449  {'bytes': b'RIFF2\\xe2\\x0e\\x00WAVEfmt \\x12\\x00\\...   \n",
       "808    451  {'bytes': b'RIFF2\\xd3\\x0e\\x00WAVEfmt \\x12\\x00\\...   \n",
       "833    466  {'bytes': b'RIFF2\\x17\\x16\\x00WAVEfmt \\x12\\x00\\...   \n",
       "834    466  {'bytes': b'RIFF2\\xc9\\x18\\x00WAVEfmt \\x12\\x00\\...   \n",
       "1022   580  {'bytes': b'RIFF2 \\r\\x00WAVEfmt \\x12\\x00\\x00\\x...   \n",
       "1029   584  {'bytes': b'RIFF2\\x0e\\x10\\x00WAVEfmt \\x12\\x00\\...   \n",
       "1030   584  {'bytes': b'RIFF2k\\r\\x00WAVEfmt \\x12\\x00\\x00\\x...   \n",
       "1080   615  {'bytes': b'RIFF2\\xb7\\x0c\\x00WAVEfmt \\x12\\x00\\...   \n",
       "1253   720  {'bytes': b'RIFF2\\x1b\\x12\\x00WAVEfmt \\x12\\x00\\...   \n",
       "1420   820  {'bytes': b'RIFF2\\xde\\x12\\x00WAVEfmt \\x12\\x00\\...   \n",
       "1421   820  {'bytes': b'RIFF2\\xc1\\x11\\x00WAVEfmt \\x12\\x00\\...   \n",
       "1542   893  {'bytes': b'RIFF2\\x10\\x0e\\x00WAVEfmt \\x12\\x00\\...   \n",
       "1543   893  {'bytes': b'RIFF2\\xfd\\x11\\x00WAVEfmt \\x12\\x00\\...   \n",
       "1547   897  {'bytes': b'RIFF2l\\x0c\\x00WAVEfmt \\x12\\x00\\x00...   \n",
       "1680   978  {'bytes': b'RIFF2\\x13\\x0b\\x00WAVEfmt \\x12\\x00\\...   \n",
       "1681   978  {'bytes': b'RIFF2\\x88\\x0e\\x00WAVEfmt \\x12\\x00\\...   \n",
       "1690   983  {'bytes': b'RIFF2k\\r\\x00WAVEfmt \\x12\\x00\\x00\\x...   \n",
       "1691   983  {'bytes': b'RIFF2\\r\\x11\\x00WAVEfmt \\x12\\x00\\x0...   \n",
       "1744  1016  {'bytes': b'RIFF2\\xba\\t\\x00WAVEfmt \\x12\\x00\\x0...   \n",
       "1745  1016  {'bytes': b'RIFF2\\x8c\\n\\x00WAVEfmt \\x12\\x00\\x0...   \n",
       "1827  1065  {'bytes': b'RIFF2\\xb1\\x12\\x00WAVEfmt \\x12\\x00\\...   \n",
       "1828  1065  {'bytes': b'RIFF2,\\x10\\x00WAVEfmt \\x12\\x00\\x00...   \n",
       "1849  1080  {'bytes': b'RIFF2\\xe3\\r\\x00WAVEfmt \\x12\\x00\\x0...   \n",
       "1850  1080  {'bytes': b'RIFF2\\xe3\\r\\x00WAVEfmt \\x12\\x00\\x0...   \n",
       "2018  1181  {'bytes': b'RIFF2l\\x0c\\x00WAVEfmt \\x12\\x00\\x00...   \n",
       "2019  1181  {'bytes': b'RIFF2\\xa5\\x0f\\x00WAVEfmt \\x12\\x00\\...   \n",
       "2076  1216  {'bytes': b'RIFF2\\xb6\\r\\x00WAVEfmt \\x12\\x00\\x0...   \n",
       "2077  1216  {'bytes': b'RIFF2\\x98\\r\\x00WAVEfmt \\x12\\x00\\x0...   \n",
       "2128  1250  {'bytes': b'RIFF2\\x9c\\t\\x00WAVEfmt \\x12\\x00\\x0...   \n",
       "2129  1250  {'bytes': b'RIFF2#\\n\\x00WAVEfmt \\x12\\x00\\x00\\x...   \n",
       "2149  1261  {'bytes': b'RIFF24\\x08\\x00WAVEfmt \\x12\\x00\\x00...   \n",
       "2150  1261  {'bytes': b'RIFF2P\\n\\x00WAVEfmt \\x12\\x00\\x00\\x...   \n",
       "2222  1303  {'bytes': b'RIFF2\\xa5\\x0f\\x00WAVEfmt \\x12\\x00\\...   \n",
       "2223  1303  {'bytes': b'RIFF2\\x10\\x0e\\x00WAVEfmt \\x12\\x00\\...   \n",
       "2230  1307  {'bytes': b'RIFF2\\x1c\\x11\\x00WAVEfmt \\x12\\x00\\...   \n",
       "2348  1375  {'bytes': b'RIFF2X\\x11\\x00WAVEfmt \\x12\\x00\\x00...   \n",
       "2349  1375  {'bytes': b'RIFF2\\xff\\x0f\\x00WAVEfmt \\x12\\x00\\...   \n",
       "\n",
       "                                              text_indo text_en  \n",
       "109   Tuan Reid berhasil mengemudikan mobil A1 GP mi...     NaN  \n",
       "110   Tuan Reid berhasil mengemudikan mobil A1 GP mi...     NaN  \n",
       "215   Lubang tangki masih bocor hingga Rabu sore, ke...     NaN  \n",
       "216   Lubang tangki masih bocor hingga Rabu sore, ke...     NaN  \n",
       "459   Sebuah losmen ambruk di Makkah, kota suci Isla...     NaN  \n",
       "460   Sebuah losmen ambruk di Makkah, kota suci Isla...     NaN  \n",
       "490   Kontrol darat Rusia mengaktifkan jet-jet terse...     NaN  \n",
       "491   Kontrol darat Rusia mengaktifkan jet-jet terse...     NaN  \n",
       "532   Kantor Meteorologi Islandia juga melaporkan ba...     NaN  \n",
       "533   Kantor Meteorologi Islandia juga melaporkan ba...     NaN  \n",
       "559   Judoka Jepang Hitoshi Saito, pemenang dua meda...     NaN  \n",
       "560   Judoka Jepang Hitoshi Saito, pemenang dua meda...     NaN  \n",
       "613   Kemudian Whirling Dervishes naik ke atas pangg...     NaN  \n",
       "614   Kemudian Whirling Dervishes naik ke atas pangg...     NaN  \n",
       "653   Untuk kembali ke tingkat energi sebelumnya, at...     NaN  \n",
       "654   Untuk kembali ke tingkat energi sebelumnya, at...     NaN  \n",
       "766   Namun, Charles berkuliah di Trinity College, C...     NaN  \n",
       "804   Setiap tahun sekitar bulan Oktober, hampir 1,5...     NaN  \n",
       "805   Setiap tahun sekitar bulan Oktober, hampir 1,5...     NaN  \n",
       "808   Wilayah Serengeti terdiri dari Taman Nasional ...     NaN  \n",
       "833   Bahkan saat berdiri di tengah reruntuhan berus...     NaN  \n",
       "834   Bahkan saat berdiri di tengah reruntuhan berus...     NaN  \n",
       "1022  Sistem Saraf mempertahankan homeostasis dengan...     NaN  \n",
       "1029  Badai berkekuatan besar ini memiliki kecepatan...     NaN  \n",
       "1030  Badai berkekuatan besar ini memiliki kecepatan...     NaN  \n",
       "1080  Teori tersebut kemudian mengawali gagasan bahw...     NaN  \n",
       "1253  Republik Dominika (Spanyol: RepÃºblica Dominic...     NaN  \n",
       "1420  \"Saat Anda berwisata, perkirakan segala sesuat...     NaN  \n",
       "1421  \"Saat Anda berwisata, perkirakan segala sesuat...     NaN  \n",
       "1542  Ini adalah salju yang dipadatkan dengan celah-...     NaN  \n",
       "1543  Ini adalah salju yang dipadatkan dengan celah-...     NaN  \n",
       "1547  Polanya harus cukup dalam, 5 mm (1/5 inci) ata...     NaN  \n",
       "1680  Ini berbeda dengan lingua franca, yang merupak...     NaN  \n",
       "1681  Ini berbeda dengan lingua franca, yang merupak...     NaN  \n",
       "1690  Bahkan bila Anda berkendara melintasi hutan hu...     NaN  \n",
       "1691  Bahkan bila Anda berkendara melintasi hutan hu...     NaN  \n",
       "1744  Ukuran atom luar biasa kecil sehingga titik di...     NaN  \n",
       "1745  Ukuran atom luar biasa kecil sehingga titik di...     NaN  \n",
       "1827  Bagi orang Australia, gagasan kopi 'flat white...     NaN  \n",
       "1828  Bagi orang Australia, gagasan kopi 'flat white...     NaN  \n",
       "1849  \"Kisah yang dihadirkan dalam opera Prancis, ol...     NaN  \n",
       "1850  \"Kisah yang dihadirkan dalam opera Prancis, ol...     NaN  \n",
       "2018  Awal mula Taiwan dimulai jauh sejak abad ke-15...     NaN  \n",
       "2019  Awal mula Taiwan dimulai jauh sejak abad ke-15...     NaN  \n",
       "2076  Pantai North Shore (masuk dalam wilayah distri...     NaN  \n",
       "2077  Pantai North Shore (masuk dalam wilayah distri...     NaN  \n",
       "2128  Format 35 mm sebenarnya, agak membingungkan, m...     NaN  \n",
       "2129  Format 35 mm sebenarnya, agak membingungkan, m...     NaN  \n",
       "2149  Keharmonisan tempat kerja sangatlah penting, y...     NaN  \n",
       "2150  Keharmonisan tempat kerja sangatlah penting, y...     NaN  \n",
       "2222  Ia dirampok oleh bajak laut, diserang di Tibet...     NaN  \n",
       "2223  Ia dirampok oleh bajak laut, diserang di Tibet...     NaN  \n",
       "2230  Walau pembangunan piramida dengan batu berlanj...     NaN  \n",
       "2348  Up artinya Anda harus mulai dari ujung dan men...     NaN  \n",
       "2349  Up artinya Anda harus mulai dari ujung dan men...     NaN  "
      ]
     },
     "execution_count": 64,
     "metadata": {},
     "output_type": "execute_result"
    }
   ],
   "source": [
    "# check whether there's a \"None\" value\n",
    "df_merge[(df_merge[\"text_indo\"].isnull()) | (df_merge[\"text_en\"].isnull()) | (df_merge[\"audio\"].isnull())]"
   ]
  },
  {
   "cell_type": "code",
   "execution_count": 65,
   "id": "21415603-101c-4ddd-baef-13824af3c5f3",
   "metadata": {},
   "outputs": [],
   "source": [
    "df_merge = df_merge.dropna()"
   ]
  },
  {
   "cell_type": "code",
   "execution_count": 70,
   "id": "15d0f200-5a8a-4dd0-8c72-c866f37d8771",
   "metadata": {},
   "outputs": [
    {
     "data": {
      "text/html": [
       "<div>\n",
       "<style scoped>\n",
       "    .dataframe tbody tr th:only-of-type {\n",
       "        vertical-align: middle;\n",
       "    }\n",
       "\n",
       "    .dataframe tbody tr th {\n",
       "        vertical-align: top;\n",
       "    }\n",
       "\n",
       "    .dataframe thead th {\n",
       "        text-align: right;\n",
       "    }\n",
       "</style>\n",
       "<table border=\"1\" class=\"dataframe\">\n",
       "  <thead>\n",
       "    <tr style=\"text-align: right;\">\n",
       "      <th></th>\n",
       "      <th>id</th>\n",
       "      <th>audio</th>\n",
       "      <th>text_indo</th>\n",
       "      <th>text_en</th>\n",
       "    </tr>\n",
       "  </thead>\n",
       "  <tbody>\n",
       "    <tr>\n",
       "      <th>0</th>\n",
       "      <td>1</td>\n",
       "      <td>{'bytes': b'RIFF2\\x91\\x14\\x00WAVEfmt \\x12\\x00\\...</td>\n",
       "      <td>Ilmuwan dari Stanford University School of Med...</td>\n",
       "      <td>On Monday, scientists from the Stanford Univer...</td>\n",
       "    </tr>\n",
       "    <tr>\n",
       "      <th>1</th>\n",
       "      <td>2</td>\n",
       "      <td>{'bytes': b'RIFF2\\x7f\\x17\\x00WAVEfmt \\x12\\x00\\...</td>\n",
       "      <td>Ketua peneliti mengatakan bahwa diagnosis ini ...</td>\n",
       "      <td>Lead researchers say this may bring early dete...</td>\n",
       "    </tr>\n",
       "    <tr>\n",
       "      <th>2</th>\n",
       "      <td>2</td>\n",
       "      <td>{'bytes': b'RIFF2\\n\\x14\\x00WAVEfmt \\x12\\x00\\x0...</td>\n",
       "      <td>Ketua peneliti mengatakan bahwa diagnosis ini ...</td>\n",
       "      <td>Lead researchers say this may bring early dete...</td>\n",
       "    </tr>\n",
       "    <tr>\n",
       "      <th>3</th>\n",
       "      <td>2</td>\n",
       "      <td>{'bytes': b'RIFF2)\\x13\\x00WAVEfmt \\x12\\x00\\x00...</td>\n",
       "      <td>Ketua peneliti mengatakan bahwa diagnosis ini ...</td>\n",
       "      <td>Lead researchers say this may bring early dete...</td>\n",
       "    </tr>\n",
       "    <tr>\n",
       "      <th>4</th>\n",
       "      <td>3</td>\n",
       "      <td>{'bytes': b'RIFF2*\\x12\\x00WAVEfmt \\x12\\x00\\x00...</td>\n",
       "      <td>JAS 39C Gripen jatuh ke landasan pacu sekitar ...</td>\n",
       "      <td>The JAS 39C Gripen crashed onto a runway at ar...</td>\n",
       "    </tr>\n",
       "    <tr>\n",
       "      <th>...</th>\n",
       "      <td>...</td>\n",
       "      <td>...</td>\n",
       "      <td>...</td>\n",
       "      <td>...</td>\n",
       "    </tr>\n",
       "    <tr>\n",
       "      <th>3556</th>\n",
       "      <td>2006</td>\n",
       "      <td>{'bytes': b'RIFF2\\xf8\\x07\\x00WAVEfmt \\x12\\x00\\...</td>\n",
       "      <td>Elemen seperti kalsium dan potasium adalah log...</td>\n",
       "      <td>Elements like calcium and potassium are consid...</td>\n",
       "    </tr>\n",
       "    <tr>\n",
       "      <th>3557</th>\n",
       "      <td>2007</td>\n",
       "      <td>{'bytes': b'RIFF2O\\x0b\\x00WAVEfmt \\x12\\x00\\x00...</td>\n",
       "      <td>U.S. Corps of Engineers memperkirakan bahwa cu...</td>\n",
       "      <td>The U.S. Corps of Engineers estimated that 6 i...</td>\n",
       "    </tr>\n",
       "    <tr>\n",
       "      <th>3558</th>\n",
       "      <td>2008</td>\n",
       "      <td>{'bytes': b'RIFF2\\xc1\\x11\\x00WAVEfmt \\x12\\x00\\...</td>\n",
       "      <td>Subjek lain di dalam agenda di Bali antara lai...</td>\n",
       "      <td>Other subjects on the agenda in Bali include s...</td>\n",
       "    </tr>\n",
       "    <tr>\n",
       "      <th>3559</th>\n",
       "      <td>2009</td>\n",
       "      <td>{'bytes': b'RIFF2\\x95\\x10\\x00WAVEfmt \\x12\\x00\\...</td>\n",
       "      <td>Sumber nabati yang paling mudah diperoleh adal...</td>\n",
       "      <td>The most readily accessible plant resources wo...</td>\n",
       "    </tr>\n",
       "    <tr>\n",
       "      <th>3560</th>\n",
       "      <td>2009</td>\n",
       "      <td>{'bytes': b'RIFF2K\\x0f\\x00WAVEfmt \\x12\\x00\\x00...</td>\n",
       "      <td>Sumber nabati yang paling mudah diperoleh adal...</td>\n",
       "      <td>The most readily accessible plant resources wo...</td>\n",
       "    </tr>\n",
       "  </tbody>\n",
       "</table>\n",
       "<p>3561 rows × 4 columns</p>\n",
       "</div>"
      ],
      "text/plain": [
       "        id                                              audio  \\\n",
       "0        1  {'bytes': b'RIFF2\\x91\\x14\\x00WAVEfmt \\x12\\x00\\...   \n",
       "1        2  {'bytes': b'RIFF2\\x7f\\x17\\x00WAVEfmt \\x12\\x00\\...   \n",
       "2        2  {'bytes': b'RIFF2\\n\\x14\\x00WAVEfmt \\x12\\x00\\x0...   \n",
       "3        2  {'bytes': b'RIFF2)\\x13\\x00WAVEfmt \\x12\\x00\\x00...   \n",
       "4        3  {'bytes': b'RIFF2*\\x12\\x00WAVEfmt \\x12\\x00\\x00...   \n",
       "...    ...                                                ...   \n",
       "3556  2006  {'bytes': b'RIFF2\\xf8\\x07\\x00WAVEfmt \\x12\\x00\\...   \n",
       "3557  2007  {'bytes': b'RIFF2O\\x0b\\x00WAVEfmt \\x12\\x00\\x00...   \n",
       "3558  2008  {'bytes': b'RIFF2\\xc1\\x11\\x00WAVEfmt \\x12\\x00\\...   \n",
       "3559  2009  {'bytes': b'RIFF2\\x95\\x10\\x00WAVEfmt \\x12\\x00\\...   \n",
       "3560  2009  {'bytes': b'RIFF2K\\x0f\\x00WAVEfmt \\x12\\x00\\x00...   \n",
       "\n",
       "                                              text_indo  \\\n",
       "0     Ilmuwan dari Stanford University School of Med...   \n",
       "1     Ketua peneliti mengatakan bahwa diagnosis ini ...   \n",
       "2     Ketua peneliti mengatakan bahwa diagnosis ini ...   \n",
       "3     Ketua peneliti mengatakan bahwa diagnosis ini ...   \n",
       "4     JAS 39C Gripen jatuh ke landasan pacu sekitar ...   \n",
       "...                                                 ...   \n",
       "3556  Elemen seperti kalsium dan potasium adalah log...   \n",
       "3557  U.S. Corps of Engineers memperkirakan bahwa cu...   \n",
       "3558  Subjek lain di dalam agenda di Bali antara lai...   \n",
       "3559  Sumber nabati yang paling mudah diperoleh adal...   \n",
       "3560  Sumber nabati yang paling mudah diperoleh adal...   \n",
       "\n",
       "                                                text_en  \n",
       "0     On Monday, scientists from the Stanford Univer...  \n",
       "1     Lead researchers say this may bring early dete...  \n",
       "2     Lead researchers say this may bring early dete...  \n",
       "3     Lead researchers say this may bring early dete...  \n",
       "4     The JAS 39C Gripen crashed onto a runway at ar...  \n",
       "...                                                 ...  \n",
       "3556  Elements like calcium and potassium are consid...  \n",
       "3557  The U.S. Corps of Engineers estimated that 6 i...  \n",
       "3558  Other subjects on the agenda in Bali include s...  \n",
       "3559  The most readily accessible plant resources wo...  \n",
       "3560  The most readily accessible plant resources wo...  \n",
       "\n",
       "[3561 rows x 4 columns]"
      ]
     },
     "execution_count": 70,
     "metadata": {},
     "output_type": "execute_result"
    }
   ],
   "source": [
    "df_merge.reset_index(drop=True)"
   ]
  },
  {
   "cell_type": "code",
   "execution_count": 71,
   "id": "f24c3eff-04eb-41e3-a6a1-3bff14845780",
   "metadata": {},
   "outputs": [
    {
     "data": {
      "text/html": [
       "<div>\n",
       "<style scoped>\n",
       "    .dataframe tbody tr th:only-of-type {\n",
       "        vertical-align: middle;\n",
       "    }\n",
       "\n",
       "    .dataframe tbody tr th {\n",
       "        vertical-align: top;\n",
       "    }\n",
       "\n",
       "    .dataframe thead th {\n",
       "        text-align: right;\n",
       "    }\n",
       "</style>\n",
       "<table border=\"1\" class=\"dataframe\">\n",
       "  <thead>\n",
       "    <tr style=\"text-align: right;\">\n",
       "      <th></th>\n",
       "      <th>id</th>\n",
       "      <th>audio</th>\n",
       "      <th>text_indo</th>\n",
       "      <th>text_en</th>\n",
       "    </tr>\n",
       "  </thead>\n",
       "  <tbody>\n",
       "  </tbody>\n",
       "</table>\n",
       "</div>"
      ],
      "text/plain": [
       "Empty DataFrame\n",
       "Columns: [id, audio, text_indo, text_en]\n",
       "Index: []"
      ]
     },
     "execution_count": 71,
     "metadata": {},
     "output_type": "execute_result"
    }
   ],
   "source": [
    "df_merge[(df_merge[\"text_indo\"].isnull()) | (df_merge[\"text_en\"].isnull()) | (df_merge[\"audio\"].isnull())]"
   ]
  },
  {
   "cell_type": "markdown",
   "id": "da62a410-26ee-465c-b5bf-604ef932591c",
   "metadata": {},
   "source": [
    "# Convert back to Dataset Object"
   ]
  },
  {
   "cell_type": "code",
   "execution_count": 72,
   "id": "d0c170c2-6dcf-42c7-8625-fc38d2943353",
   "metadata": {},
   "outputs": [],
   "source": [
    "# Convert back to Dataset format\n",
    "merged_dataset = Dataset.from_pandas(df_merge)"
   ]
  },
  {
   "cell_type": "code",
   "execution_count": 73,
   "id": "cdfd3a3b-0fe2-4db9-81ec-7484f286a61a",
   "metadata": {},
   "outputs": [
    {
     "data": {
      "text/plain": [
       "Dataset({\n",
       "    features: ['id', 'audio', 'text_indo', 'text_en', '__index_level_0__'],\n",
       "    num_rows: 3561\n",
       "})"
      ]
     },
     "execution_count": 73,
     "metadata": {},
     "output_type": "execute_result"
    }
   ],
   "source": [
    "merged_dataset"
   ]
  },
  {
   "cell_type": "code",
   "execution_count": 83,
   "id": "6d143107-e7ec-4ef8-baf1-8986f42a83e2",
   "metadata": {},
   "outputs": [],
   "source": [
    "merged_dataset = merged_dataset.remove_columns([\"__index_level_0__\"])"
   ]
  },
  {
   "cell_type": "code",
   "execution_count": 84,
   "id": "ccdb8660-748f-4910-bb3b-1284134e7aee",
   "metadata": {
    "scrolled": true
   },
   "outputs": [
    {
     "data": {
      "text/plain": [
       "{'path': 'train/17968311064306361757.wav',\n",
       " 'array': array([ 0.        ,  0.        ,  0.        , ..., -0.00020576,\n",
       "        -0.00021666, -0.00022811]),\n",
       " 'sampling_rate': 16000}"
      ]
     },
     "execution_count": 84,
     "metadata": {},
     "output_type": "execute_result"
    }
   ],
   "source": [
    "# see the data format\n",
    "merged_dataset[1100][\"audio\"]"
   ]
  },
  {
   "cell_type": "code",
   "execution_count": 85,
   "id": "582875da-ea10-46b0-9b67-9f72f7898262",
   "metadata": {},
   "outputs": [],
   "source": [
    "# Re-cast the audio column from byte into Audio object\n",
    "merged_dataset = merged_dataset.cast_column(\"audio\", Audio(sampling_rate=16000))"
   ]
  },
  {
   "cell_type": "code",
   "execution_count": null,
   "id": "95299771-4c09-4308-956a-308505cd7039",
   "metadata": {
    "scrolled": true
   },
   "outputs": [],
   "source": []
  },
  {
   "cell_type": "markdown",
   "id": "a5bc006c-0b70-46ef-8a45-26eff14bacc4",
   "metadata": {},
   "source": [
    "### Split into train and val"
   ]
  },
  {
   "cell_type": "code",
   "execution_count": 86,
   "id": "3bcf93e2-799b-4ef3-bc71-d404d69eefa1",
   "metadata": {},
   "outputs": [],
   "source": [
    "dataset = merged_dataset.train_test_split(test_size=0.2)"
   ]
  },
  {
   "cell_type": "code",
   "execution_count": 87,
   "id": "1c8e8984-cbaa-4cf5-a689-15ecf734462a",
   "metadata": {},
   "outputs": [
    {
     "data": {
      "text/plain": [
       "{'id': 370,\n",
       " 'audio': {'path': 'train/6166977075470649137.wav',\n",
       "  'array': array([ 0.00000000e+00,  0.00000000e+00,  0.00000000e+00, ...,\n",
       "         -1.78813934e-07,  4.09364700e-04,  4.82201576e-05]),\n",
       "  'sampling_rate': 16000},\n",
       " 'text_indo': 'Beberapa ilmuwan mengira Triceratop memakan palem sagu, yang merupakan jenis tumbuhan yang umum di zaman Kapur.',\n",
       " 'text_en': 'Some scientists think Triceratops ate cycads, which are a type of plant that was common in the Cretaceous.'}"
      ]
     },
     "execution_count": 87,
     "metadata": {},
     "output_type": "execute_result"
    }
   ],
   "source": [
    "dataset[\"train\"][0]"
   ]
  },
  {
   "cell_type": "code",
   "execution_count": 88,
   "id": "f83708ec-6677-4202-ab12-b084ea89854c",
   "metadata": {},
   "outputs": [
    {
     "data": {
      "text/plain": [
       "{'id': 586,\n",
       " 'audio': {'path': 'train/4317314961397545836.wav',\n",
       "  'array': array([ 0.        ,  0.        ,  0.        , ...,  0.00035083,\n",
       "          0.00042075, -0.00119245]),\n",
       "  'sampling_rate': 16000},\n",
       " 'text_indo': 'Namun, teleskop asli pertama dibuat di Eropa pada akhir abad ke-16.',\n",
       " 'text_en': 'However, the first true telescopes were made in Europe in the late 16th century.'}"
      ]
     },
     "execution_count": 88,
     "metadata": {},
     "output_type": "execute_result"
    }
   ],
   "source": [
    "dataset[\"test\"][0]"
   ]
  },
  {
   "cell_type": "code",
   "execution_count": 89,
   "id": "f7adb108-8d6e-440f-bb3a-0d1754eb910f",
   "metadata": {},
   "outputs": [],
   "source": [
    "dataset= DatasetDict({\n",
    "    'train': dataset['train'],\n",
    "    'validation': dataset['test']})"
   ]
  },
  {
   "cell_type": "code",
   "execution_count": 90,
   "id": "9f9578bb-1694-4a14-b2df-a8953f3d8ec1",
   "metadata": {
    "scrolled": true
   },
   "outputs": [
    {
     "data": {
      "text/plain": [
       "Dataset({\n",
       "    features: ['id', 'audio', 'text_indo', 'text_en'],\n",
       "    num_rows: 2848\n",
       "})"
      ]
     },
     "execution_count": 90,
     "metadata": {},
     "output_type": "execute_result"
    }
   ],
   "source": [
    "dataset[\"train\"]"
   ]
  },
  {
   "cell_type": "code",
   "execution_count": 91,
   "id": "ca4292ba-4b73-4ea8-8263-f5d661a4dee4",
   "metadata": {},
   "outputs": [
    {
     "data": {
      "text/plain": [
       "Dataset({\n",
       "    features: ['id', 'audio', 'text_indo', 'text_en'],\n",
       "    num_rows: 713\n",
       "})"
      ]
     },
     "execution_count": 91,
     "metadata": {},
     "output_type": "execute_result"
    }
   ],
   "source": [
    "dataset[\"validation\"]"
   ]
  },
  {
   "cell_type": "code",
   "execution_count": 92,
   "id": "40a93029-0314-4c5a-9678-b7ab1d4964f7",
   "metadata": {},
   "outputs": [
    {
     "data": {
      "application/vnd.jupyter.widget-view+json": {
       "model_id": "b0b9fa4eb2934cc6a4c1f2d69c8cdfda",
       "version_major": 2,
       "version_minor": 0
      },
      "text/plain": [
       "Uploading the dataset shards:   0%|          | 0/5 [00:00<?, ?it/s]"
      ]
     },
     "metadata": {},
     "output_type": "display_data"
    },
    {
     "data": {
      "application/vnd.jupyter.widget-view+json": {
       "model_id": "1cdfa9f49cf54c04bf2b1204bc4b7a42",
       "version_major": 2,
       "version_minor": 0
      },
      "text/plain": [
       "Map:   0%|          | 0/570 [00:00<?, ? examples/s]"
      ]
     },
     "metadata": {},
     "output_type": "display_data"
    },
    {
     "data": {
      "application/vnd.jupyter.widget-view+json": {
       "model_id": "22915f0235e5469ca68c60c9e8eb9948",
       "version_major": 2,
       "version_minor": 0
      },
      "text/plain": [
       "Creating parquet from Arrow format:   0%|          | 0/6 [00:00<?, ?ba/s]"
      ]
     },
     "metadata": {},
     "output_type": "display_data"
    },
    {
     "data": {
      "application/vnd.jupyter.widget-view+json": {
       "model_id": "22cdac78cc524185bc3d1b1979f1a49c",
       "version_major": 2,
       "version_minor": 0
      },
      "text/plain": [
       "Map:   0%|          | 0/570 [00:00<?, ? examples/s]"
      ]
     },
     "metadata": {},
     "output_type": "display_data"
    },
    {
     "data": {
      "application/vnd.jupyter.widget-view+json": {
       "model_id": "eb8ddb0a5ab9454bbc26bb8b454bb6f2",
       "version_major": 2,
       "version_minor": 0
      },
      "text/plain": [
       "Creating parquet from Arrow format:   0%|          | 0/6 [00:00<?, ?ba/s]"
      ]
     },
     "metadata": {},
     "output_type": "display_data"
    },
    {
     "data": {
      "application/vnd.jupyter.widget-view+json": {
       "model_id": "84a5a37050fd4fc5bd548782abea6657",
       "version_major": 2,
       "version_minor": 0
      },
      "text/plain": [
       "Map:   0%|          | 0/570 [00:00<?, ? examples/s]"
      ]
     },
     "metadata": {},
     "output_type": "display_data"
    },
    {
     "data": {
      "application/vnd.jupyter.widget-view+json": {
       "model_id": "f4a472b34c1e41d39ea105e0f55a3ed0",
       "version_major": 2,
       "version_minor": 0
      },
      "text/plain": [
       "Creating parquet from Arrow format:   0%|          | 0/6 [00:00<?, ?ba/s]"
      ]
     },
     "metadata": {},
     "output_type": "display_data"
    },
    {
     "data": {
      "application/vnd.jupyter.widget-view+json": {
       "model_id": "f682a132e2424e08aa13581d13cb7e4b",
       "version_major": 2,
       "version_minor": 0
      },
      "text/plain": [
       "Map:   0%|          | 0/569 [00:00<?, ? examples/s]"
      ]
     },
     "metadata": {},
     "output_type": "display_data"
    },
    {
     "data": {
      "application/vnd.jupyter.widget-view+json": {
       "model_id": "b203cd59ef9d47d9b36151fb45fa592a",
       "version_major": 2,
       "version_minor": 0
      },
      "text/plain": [
       "Creating parquet from Arrow format:   0%|          | 0/6 [00:00<?, ?ba/s]"
      ]
     },
     "metadata": {},
     "output_type": "display_data"
    },
    {
     "data": {
      "application/vnd.jupyter.widget-view+json": {
       "model_id": "a5f13e0ee959482a8eda46e59e600bef",
       "version_major": 2,
       "version_minor": 0
      },
      "text/plain": [
       "Map:   0%|          | 0/569 [00:00<?, ? examples/s]"
      ]
     },
     "metadata": {},
     "output_type": "display_data"
    },
    {
     "data": {
      "application/vnd.jupyter.widget-view+json": {
       "model_id": "eb189ac9ec9d43a2991c2166980e5dd6",
       "version_major": 2,
       "version_minor": 0
      },
      "text/plain": [
       "Creating parquet from Arrow format:   0%|          | 0/6 [00:00<?, ?ba/s]"
      ]
     },
     "metadata": {},
     "output_type": "display_data"
    },
    {
     "data": {
      "application/vnd.jupyter.widget-view+json": {
       "model_id": "524f84243fb541cd94f71fb11684bac3",
       "version_major": 2,
       "version_minor": 0
      },
      "text/plain": [
       "Uploading the dataset shards:   0%|          | 0/2 [00:00<?, ?it/s]"
      ]
     },
     "metadata": {},
     "output_type": "display_data"
    },
    {
     "data": {
      "application/vnd.jupyter.widget-view+json": {
       "model_id": "e09fab9a57c34d1a8b54baffede4bf3d",
       "version_major": 2,
       "version_minor": 0
      },
      "text/plain": [
       "Map:   0%|          | 0/357 [00:00<?, ? examples/s]"
      ]
     },
     "metadata": {},
     "output_type": "display_data"
    },
    {
     "data": {
      "application/vnd.jupyter.widget-view+json": {
       "model_id": "70122010b7bd4a9ab50247d3ee4f70c3",
       "version_major": 2,
       "version_minor": 0
      },
      "text/plain": [
       "Creating parquet from Arrow format:   0%|          | 0/4 [00:00<?, ?ba/s]"
      ]
     },
     "metadata": {},
     "output_type": "display_data"
    },
    {
     "data": {
      "application/vnd.jupyter.widget-view+json": {
       "model_id": "b2797067fb8f492b9596057e562174e0",
       "version_major": 2,
       "version_minor": 0
      },
      "text/plain": [
       "Map:   0%|          | 0/356 [00:00<?, ? examples/s]"
      ]
     },
     "metadata": {},
     "output_type": "display_data"
    },
    {
     "data": {
      "application/vnd.jupyter.widget-view+json": {
       "model_id": "bdd93776ae3d4db5a9bb665d70b02feb",
       "version_major": 2,
       "version_minor": 0
      },
      "text/plain": [
       "Creating parquet from Arrow format:   0%|          | 0/4 [00:00<?, ?ba/s]"
      ]
     },
     "metadata": {},
     "output_type": "display_data"
    },
    {
     "data": {
      "text/plain": [
       "CommitInfo(commit_url='https://huggingface.co/datasets/cobrayyxx/FLEURS_INDO-ENG_Speech_Translation/commit/65b9009a9368657186a50972f664474e3a3f2946', commit_message='Upload dataset', commit_description='', oid='65b9009a9368657186a50972f664474e3a3f2946', pr_url=None, repo_url=RepoUrl('https://huggingface.co/datasets/cobrayyxx/FLEURS_INDO-ENG_Speech_Translation', endpoint='https://huggingface.co', repo_type='dataset', repo_id='cobrayyxx/FLEURS_INDO-ENG_Speech_Translation'), pr_revision=None, pr_num=None)"
      ]
     },
     "execution_count": 92,
     "metadata": {},
     "output_type": "execute_result"
    }
   ],
   "source": [
    "dataset.push_to_hub(\"cobrayyxx/FLEURS_INDO-ENG_Speech_Translation\", private=False)"
   ]
  },
  {
   "cell_type": "code",
   "execution_count": null,
   "id": "113c5212-9405-46e2-8fb5-dea734559291",
   "metadata": {},
   "outputs": [],
   "source": []
  },
  {
   "cell_type": "code",
   "execution_count": null,
   "id": "5e26f0ae",
   "metadata": {},
   "outputs": [],
   "source": []
  },
  {
   "cell_type": "markdown",
   "id": "1b765657",
   "metadata": {},
   "source": [
    "# add total duration of audio"
   ]
  },
  {
   "cell_type": "code",
   "execution_count": 93,
   "id": "8e866d47-6e6f-4bb6-b058-5381ad54b763",
   "metadata": {},
   "outputs": [],
   "source": [
    "def get_dataset_duration(audio_dataset):\n",
    "    seconds=0\n",
    "    for audio in tqdm(audio_dataset, total=len(audio_dataset)):\n",
    "        audio_array = audio[\"array\"]\n",
    "        sampling_rate = audio[\"sampling_rate\"]\n",
    "        audio_duration = get_duration(y=audio_array, sr=sampling_rate)\n",
    "        seconds+=audio_duration\n",
    "\n",
    "    minutes, seconds = divmod(seconds, 60)\n",
    "    hours, minutes = divmod(minutes,60)\n",
    "    dataset_duration = f\"{hours:0.0f}:{minutes:0.0f}:{seconds:0.0f} \"\n",
    "    return dataset_duration"
   ]
  },
  {
   "cell_type": "code",
   "execution_count": 94,
   "id": "6a9951e1-5eee-439b-8272-e917ed827ae9",
   "metadata": {},
   "outputs": [
    {
     "data": {
      "application/vnd.jupyter.widget-view+json": {
       "model_id": "14b694fb03bb47b9a3d906ec7772a87e",
       "version_major": 2,
       "version_minor": 0
      },
      "text/plain": [
       "  0%|          | 0/3561 [00:00<?, ?it/s]"
      ]
     },
     "metadata": {},
     "output_type": "display_data"
    }
   ],
   "source": [
    "total_duration = get_dataset_duration(merged_dataset[\"audio\"])"
   ]
  },
  {
   "cell_type": "code",
   "execution_count": 95,
   "id": "4d900bd4-5796-42fd-86e9-aa06b83f9489",
   "metadata": {},
   "outputs": [
    {
     "data": {
      "text/plain": [
       "'12:24:28 '"
      ]
     },
     "execution_count": 95,
     "metadata": {},
     "output_type": "execute_result"
    }
   ],
   "source": [
    "total_duration"
   ]
  },
  {
   "cell_type": "code",
   "execution_count": 96,
   "id": "12373138-d720-4736-a242-d54fe30e5328",
   "metadata": {},
   "outputs": [],
   "source": [
    "def get_dataset_duration(audio_dataset):\n",
    "  seconds = 0\n",
    "  for audio in tqdm(audio_dataset, total=len(audio_dataset)):\n",
    "    audio_array = audio[\"array\"]\n",
    "    sampling_rate = audio[\"sampling_rate\"]\n",
    "    audio_duration = get_duration(y=audio_array, sr=sampling_rate)\n",
    "    seconds += audio_duration\n",
    "\n",
    "  minutes, seconds = divmod(seconds, 60)\n",
    "  hours, minutes = divmod(minutes, 60)\n",
    "  dataset_duration = f\"{hours:0.0f}:{minutes:0.0f}:{seconds:0.0f}\"\n",
    "\n",
    "  return dataset_duration"
   ]
  },
  {
   "cell_type": "code",
   "execution_count": null,
   "id": "11148135-d0be-48cd-beb1-d8e1d0eb0730",
   "metadata": {},
   "outputs": [],
   "source": []
  },
  {
   "cell_type": "code",
   "execution_count": null,
   "id": "8496b50f-0caa-47a8-aa3d-ab76b3738d0a",
   "metadata": {},
   "outputs": [],
   "source": []
  }
 ],
 "metadata": {
  "kernelspec": {
   "display_name": "Python 3 (ipykernel)",
   "language": "python",
   "name": "python3"
  },
  "language_info": {
   "codemirror_mode": {
    "name": "ipython",
    "version": 3
   },
   "file_extension": ".py",
   "mimetype": "text/x-python",
   "name": "python",
   "nbconvert_exporter": "python",
   "pygments_lexer": "ipython3",
   "version": "3.12.3"
  }
 },
 "nbformat": 4,
 "nbformat_minor": 5
}
