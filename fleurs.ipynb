{
 "cells": [
  {
   "cell_type": "code",
   "execution_count": 71,
   "id": "a32b0d5b-f9c4-4d9e-929a-4a9df34d61fa",
   "metadata": {},
   "outputs": [],
   "source": [
    "from datasets import load_dataset, Dataset, Audio, DatasetDict\n",
    "import pandas as pd\n",
    "from tqdm import tqdm\n",
    "from librosa import load, get_duration\n",
    "from tqdm.notebook import tqdm\n"
   ]
  },
  {
   "cell_type": "code",
   "execution_count": 22,
   "id": "4824b417-4ee8-4cae-a875-6ed3aaf754d2",
   "metadata": {},
   "outputs": [],
   "source": [
    "fleurs_dataset_id = load_dataset(\"google/fleurs\", \n",
    "                      name=\"id_id\", \n",
    "                      split=\"train+validation+test\",\n",
    "                      trust_remote_code=True\n",
    "                        )\n"
   ]
  },
  {
   "cell_type": "code",
   "execution_count": 23,
   "id": "343556c8-c559-4119-8c47-472747ae9aeb",
   "metadata": {},
   "outputs": [],
   "source": [
    "fleurs_dataset_en = load_dataset(\"google/fleurs\",\n",
    "                                  name=\"en_us\",\n",
    "                                  split=\"train+validation+test\",\n",
    "                                  trust_remote_code=True\n",
    "                                )"
   ]
  },
  {
   "cell_type": "code",
   "execution_count": 24,
   "id": "5003a371-c9b9-42b3-ac2c-f35f89d28802",
   "metadata": {},
   "outputs": [
    {
     "data": {
      "text/plain": [
       "{'id': 89,\n",
       " 'num_samples': 146880,\n",
       " 'path': '/home/cobrayyxx/.cache/huggingface/datasets/downloads/extracted/843218dfe1b47ac56ebb3fd2fca946a8d26c2d01c4a617ad44ea01c01d0cc1c8/10014050057465037761.wav',\n",
       " 'audio': {'path': 'train/10014050057465037761.wav',\n",
       "  'array': array([0.        , 0.        , 0.        , ..., 0.01398671, 0.01056969,\n",
       "         0.00827134]),\n",
       "  'sampling_rate': 16000},\n",
       " 'transcription': 'pihak berwajib tidak banyak memberi pernyataan resmi selain mengonfirmasi penahanan hari ini',\n",
       " 'raw_transcription': 'Pihak berwajib tidak banyak memberi pernyataan resmi selain mengonfirmasi penahanan hari ini.',\n",
       " 'gender': 1,\n",
       " 'lang_id': 36,\n",
       " 'language': 'Indonesian',\n",
       " 'lang_group_id': 5}"
      ]
     },
     "execution_count": 24,
     "metadata": {},
     "output_type": "execute_result"
    }
   ],
   "source": [
    "fleurs_dataset_id[2]"
   ]
  },
  {
   "cell_type": "code",
   "execution_count": 25,
   "id": "c22efda1-d4d2-4a7f-9f70-ed5d6586ae78",
   "metadata": {},
   "outputs": [
    {
     "data": {
      "text/plain": [
       "{'id': 903,\n",
       " 'num_samples': 108800,\n",
       " 'path': '/home/cobrayyxx/.cache/huggingface/datasets/downloads/extracted/aa5f35b1ec47eaf7b5b2b2300cb1a1b43ff29254f6dffd84be1b7defbaa4f070/10004088536354799741.wav',\n",
       " 'audio': {'path': 'train/10004088536354799741.wav',\n",
       "  'array': array([ 0.00000000e+00,  0.00000000e+00,  0.00000000e+00, ...,\n",
       "         -3.15904617e-06, -3.03983688e-06, -3.27825546e-06]),\n",
       "  'sampling_rate': 16000},\n",
       " 'transcription': 'a tornado is a spinning column of very low-pressure air which sucks the surrounding air inward and upward',\n",
       " 'raw_transcription': 'A tornado is a spinning column of very low-pressure air, which sucks the surrounding air inward and upward.',\n",
       " 'gender': 1,\n",
       " 'lang_id': 19,\n",
       " 'language': 'English',\n",
       " 'lang_group_id': 0}"
      ]
     },
     "execution_count": 25,
     "metadata": {},
     "output_type": "execute_result"
    }
   ],
   "source": [
    "fleurs_dataset_en[0]"
   ]
  },
  {
   "cell_type": "code",
   "execution_count": 26,
   "id": "5633e346-a699-423a-8df0-6fda9d20ace1",
   "metadata": {},
   "outputs": [],
   "source": [
    "# Removing unused columns\n",
    "fleurs_dataset_id = fleurs_dataset_id.remove_columns([\"num_samples\", \"path\", \"transcription\", \"gender\", \"lang_id\", \"language\", \"lang_group_id\" ])\n",
    "fleurs_dataset_en = fleurs_dataset_en.remove_columns([\"num_samples\", \"path\", \"audio\", \"transcription\", \"gender\", \"lang_id\", \"language\", \"lang_group_id\", ])"
   ]
  },
  {
   "cell_type": "code",
   "execution_count": 27,
   "id": "6e32302a-7a67-4b16-8103-a77a1b0af066",
   "metadata": {},
   "outputs": [],
   "source": [
    "# Rename \"raw_transcription\" column\n",
    "fleurs_dataset_id = fleurs_dataset_id.rename_column(\"raw_transcription\", \"text_indo\")\n",
    "fleurs_dataset_en = fleurs_dataset_en.rename_column(\"raw_transcription\", \"text_en\")\n"
   ]
  },
  {
   "cell_type": "code",
   "execution_count": 28,
   "id": "f2b78194-0bde-456d-9a7c-0e38a4e860cf",
   "metadata": {},
   "outputs": [
    {
     "name": "stdout",
     "output_type": "stream",
     "text": [
      "Dataset({\n",
      "    features: ['id', 'audio', 'text_indo'],\n",
      "    num_rows: 3616\n",
      "})\n",
      "Dataset({\n",
      "    features: ['id', 'text_en'],\n",
      "    num_rows: 3643\n",
      "})\n"
     ]
    }
   ],
   "source": [
    "print(fleurs_dataset_id)\n",
    "print(fleurs_dataset_en)"
   ]
  },
  {
   "cell_type": "code",
   "execution_count": 29,
   "id": "c7e44c42-9827-48df-b692-e822aa2e8d60",
   "metadata": {},
   "outputs": [
    {
     "name": "stdout",
     "output_type": "stream",
     "text": [
      "3561\n"
     ]
    }
   ],
   "source": [
    "# Find how many columns that are intertwined\n",
    "counter = 0\n",
    "for idx in fleurs_dataset_id[\"id\"]:\n",
    "    if idx in fleurs_dataset_en[\"id\"]:\n",
    "        counter+=1\n",
    "print(counter)"
   ]
  },
  {
   "cell_type": "code",
   "execution_count": 30,
   "id": "b39d2186-f080-4d11-8dd9-632291ebc5fe",
   "metadata": {},
   "outputs": [
    {
     "data": {
      "text/plain": [
       "{'id': [2, 2, 2],\n",
       " 'audio': [{'path': 'train/3633734419227154.wav',\n",
       "   'array': array([0.        , 0.        , 0.        , ..., 0.00149804, 0.00070363,\n",
       "          0.00041729]),\n",
       "   'sampling_rate': 16000},\n",
       "  {'path': 'train/4977553378853742690.wav',\n",
       "   'array': array([ 0.00000000e+00, -1.78813934e-07, -8.34465027e-07, ...,\n",
       "          -1.28477812e-03, -1.85829401e-03, -1.56390667e-03]),\n",
       "   'sampling_rate': 16000},\n",
       "  {'path': 'train/9082789477530922497.wav',\n",
       "   'array': array([0.        , 0.        , 0.        , ..., 0.00513917, 0.00303674,\n",
       "          0.00273275]),\n",
       "   'sampling_rate': 16000}],\n",
       " 'text_indo': ['Ketua peneliti mengatakan bahwa diagnosis ini mungkin dapat menghasilkan deteksi dini kanker, tuberkulosis, HIV, dan malaria kepada pasien-pasien di negara berpenghasilan rendah, di mana tingkat kesembuhan dari penyakit-penyakit seperti kanker payudara bisa mencapai setengah dari negara-negara kaya.',\n",
       "  'Ketua peneliti mengatakan bahwa diagnosis ini mungkin dapat menghasilkan deteksi dini kanker, tuberkulosis, HIV, dan malaria kepada pasien-pasien di negara berpenghasilan rendah, di mana tingkat kesembuhan dari penyakit-penyakit seperti kanker payudara bisa mencapai setengah dari negara-negara kaya.',\n",
       "  'Ketua peneliti mengatakan bahwa diagnosis ini mungkin dapat menghasilkan deteksi dini kanker, tuberkulosis, HIV, dan malaria kepada pasien-pasien di negara berpenghasilan rendah, di mana tingkat kesembuhan dari penyakit-penyakit seperti kanker payudara bisa mencapai setengah dari negara-negara kaya.']}"
      ]
     },
     "execution_count": 30,
     "metadata": {},
     "output_type": "execute_result"
    }
   ],
   "source": [
    "# Identify duplicate id\n",
    "sorted_dataset_id = fleurs_dataset_id.sort(\"id\")\n",
    "sorted_dataset_id[1:4]"
   ]
  },
  {
   "cell_type": "code",
   "execution_count": 31,
   "id": "93d81836-7727-43da-ac54-bb9c9b01897b",
   "metadata": {},
   "outputs": [
    {
     "data": {
      "text/plain": [
       "{'id': [1, 1, 2],\n",
       " 'text_en': ['On Monday, scientists from the Stanford University School of Medicine announced the invention of a new diagnostic tool that can sort cells by type: a tiny printable chip that can be manufactured using standard inkjet printers for possibly about one U.S. cent each.',\n",
       "  'On Monday, scientists from the Stanford University School of Medicine announced the invention of a new diagnostic tool that can sort cells by type: a tiny printable chip that can be manufactured using standard inkjet printers for possibly about one U.S. cent each.',\n",
       "  'Lead researchers say this may bring early detection of cancer, tuberculosis, HIV and malaria to patients in low-income countries, where the survival rates for illnesses such as breast cancer can be half those of richer countries.']}"
      ]
     },
     "execution_count": 31,
     "metadata": {},
     "output_type": "execute_result"
    }
   ],
   "source": [
    "# Identify duplicate en\n",
    "sorted_dataset_en = fleurs_dataset_en.sort(\"id\")\n",
    "sorted_dataset_en[1:4]"
   ]
  },
  {
   "cell_type": "code",
   "execution_count": null,
   "id": "a598763f-4790-4d04-b43a-4cac82b40d4f",
   "metadata": {},
   "outputs": [],
   "source": []
  },
  {
   "cell_type": "markdown",
   "id": "f1e1cad1-cb04-46b9-bd80-64d488b9b803",
   "metadata": {},
   "source": [
    "### Convert to Pandas"
   ]
  },
  {
   "cell_type": "code",
   "execution_count": null,
   "id": "a692c1c8-200c-49be-9131-e83aa05260b8",
   "metadata": {
    "scrolled": true
   },
   "outputs": [],
   "source": []
  },
  {
   "cell_type": "code",
   "execution_count": 32,
   "id": "f5b14572-e0f6-4798-a1c5-e4bfa3620dfe",
   "metadata": {},
   "outputs": [],
   "source": [
    "sorted_dataset_en = fleurs_dataset_en.sort(\"id\")"
   ]
  },
  {
   "cell_type": "code",
   "execution_count": 33,
   "id": "8edec1be-1864-4756-9b27-46a32b375602",
   "metadata": {
    "scrolled": true
   },
   "outputs": [
    {
     "data": {
      "text/plain": [
       "True"
      ]
     },
     "execution_count": 33,
     "metadata": {},
     "output_type": "execute_result"
    }
   ],
   "source": [
    "sorted_dataset_en[\"text_en\"][3] ==  sorted_dataset_en[\"text_en\"][5]"
   ]
  },
  {
   "cell_type": "code",
   "execution_count": 34,
   "id": "29d3c3ce-8857-4fb7-ac8d-a0b0423658ff",
   "metadata": {},
   "outputs": [],
   "source": [
    "# Change Dataset format into pandas Dataframe\n",
    "df_id = sorted_dataset_id.to_pandas()"
   ]
  },
  {
   "cell_type": "code",
   "execution_count": 35,
   "id": "579a4cba-f8fc-4514-b301-47d9ad12b4f1",
   "metadata": {
    "scrolled": true
   },
   "outputs": [
    {
     "data": {
      "text/plain": [
       "(3616, 3)"
      ]
     },
     "execution_count": 35,
     "metadata": {},
     "output_type": "execute_result"
    }
   ],
   "source": [
    "df_id.shape"
   ]
  },
  {
   "cell_type": "code",
   "execution_count": 36,
   "id": "1171651d-79df-4c05-8385-5f258327bd72",
   "metadata": {},
   "outputs": [
    {
     "data": {
      "text/plain": [
       "id           3616\n",
       "audio        3616\n",
       "text_indo    3616\n",
       "dtype: int64"
      ]
     },
     "execution_count": 36,
     "metadata": {},
     "output_type": "execute_result"
    }
   ],
   "source": [
    "df_id.count()"
   ]
  },
  {
   "cell_type": "code",
   "execution_count": null,
   "id": "1a5ef296-1bc9-47bb-a2c4-c74501093ae7",
   "metadata": {},
   "outputs": [],
   "source": []
  },
  {
   "cell_type": "code",
   "execution_count": 37,
   "id": "e87b2f5a-92ea-44f2-8906-65a715935505",
   "metadata": {},
   "outputs": [
    {
     "data": {
      "text/html": [
       "<div>\n",
       "<style scoped>\n",
       "    .dataframe tbody tr th:only-of-type {\n",
       "        vertical-align: middle;\n",
       "    }\n",
       "\n",
       "    .dataframe tbody tr th {\n",
       "        vertical-align: top;\n",
       "    }\n",
       "\n",
       "    .dataframe thead th {\n",
       "        text-align: right;\n",
       "    }\n",
       "</style>\n",
       "<table border=\"1\" class=\"dataframe\">\n",
       "  <thead>\n",
       "    <tr style=\"text-align: right;\">\n",
       "      <th></th>\n",
       "      <th>id</th>\n",
       "      <th>audio</th>\n",
       "      <th>text_indo</th>\n",
       "    </tr>\n",
       "  </thead>\n",
       "  <tbody>\n",
       "    <tr>\n",
       "      <th>0</th>\n",
       "      <td>1</td>\n",
       "      <td>{'bytes': b'RIFF2\\x91\\x14\\x00WAVEfmt \\x12\\x00\\...</td>\n",
       "      <td>Ilmuwan dari Stanford University School of Med...</td>\n",
       "    </tr>\n",
       "    <tr>\n",
       "      <th>1</th>\n",
       "      <td>2</td>\n",
       "      <td>{'bytes': b'RIFF2\\x7f\\x17\\x00WAVEfmt \\x12\\x00\\...</td>\n",
       "      <td>Ketua peneliti mengatakan bahwa diagnosis ini ...</td>\n",
       "    </tr>\n",
       "    <tr>\n",
       "      <th>2</th>\n",
       "      <td>2</td>\n",
       "      <td>{'bytes': b'RIFF2\\n\\x14\\x00WAVEfmt \\x12\\x00\\x0...</td>\n",
       "      <td>Ketua peneliti mengatakan bahwa diagnosis ini ...</td>\n",
       "    </tr>\n",
       "    <tr>\n",
       "      <th>3</th>\n",
       "      <td>2</td>\n",
       "      <td>{'bytes': b'RIFF2)\\x13\\x00WAVEfmt \\x12\\x00\\x00...</td>\n",
       "      <td>Ketua peneliti mengatakan bahwa diagnosis ini ...</td>\n",
       "    </tr>\n",
       "    <tr>\n",
       "      <th>4</th>\n",
       "      <td>3</td>\n",
       "      <td>{'bytes': b'RIFF2*\\x12\\x00WAVEfmt \\x12\\x00\\x00...</td>\n",
       "      <td>JAS 39C Gripen jatuh ke landasan pacu sekitar ...</td>\n",
       "    </tr>\n",
       "  </tbody>\n",
       "</table>\n",
       "</div>"
      ],
      "text/plain": [
       "   id                                              audio  \\\n",
       "0   1  {'bytes': b'RIFF2\\x91\\x14\\x00WAVEfmt \\x12\\x00\\...   \n",
       "1   2  {'bytes': b'RIFF2\\x7f\\x17\\x00WAVEfmt \\x12\\x00\\...   \n",
       "2   2  {'bytes': b'RIFF2\\n\\x14\\x00WAVEfmt \\x12\\x00\\x0...   \n",
       "3   2  {'bytes': b'RIFF2)\\x13\\x00WAVEfmt \\x12\\x00\\x00...   \n",
       "4   3  {'bytes': b'RIFF2*\\x12\\x00WAVEfmt \\x12\\x00\\x00...   \n",
       "\n",
       "                                           text_indo  \n",
       "0  Ilmuwan dari Stanford University School of Med...  \n",
       "1  Ketua peneliti mengatakan bahwa diagnosis ini ...  \n",
       "2  Ketua peneliti mengatakan bahwa diagnosis ini ...  \n",
       "3  Ketua peneliti mengatakan bahwa diagnosis ini ...  \n",
       "4  JAS 39C Gripen jatuh ke landasan pacu sekitar ...  "
      ]
     },
     "execution_count": 37,
     "metadata": {},
     "output_type": "execute_result"
    }
   ],
   "source": [
    "df_id.head()Scenario"
   ]
  },
  {
   "cell_type": "code",
   "execution_count": 38,
   "id": "4d8cf3a3-c738-4627-a0aa-9eed735aed95",
   "metadata": {},
   "outputs": [],
   "source": [
    "# Change Dataset format into pandas Dataframe\n",
    "df_en = sorted_dataset_en.to_pandas()\n",
    "#drop the duplicate id since it's only text\n",
    "df_en = df_en.drop_duplicates(subset=[\"id\"], keep=\"first\").reset_index(drop=True)"
   ]
  },
  {
   "cell_type": "code",
   "execution_count": 39,
   "id": "56d229f0-3f90-425c-86b2-ad61cf8ae8e0",
   "metadata": {},
   "outputs": [
    {
     "data": {
      "text/html": [
       "<div>\n",
       "<style scoped>\n",
       "    .dataframe tbody tr th:only-of-type {\n",
       "        vertical-align: middle;\n",
       "    }\n",
       "\n",
       "    .dataframe tbody tr th {\n",
       "        vertical-align: top;\n",
       "    }\n",
       "\n",
       "    .dataframe thead th {\n",
       "        text-align: right;\n",
       "    }\n",
       "</style>\n",
       "<table border=\"1\" class=\"dataframe\">\n",
       "  <thead>\n",
       "    <tr style=\"text-align: right;\">\n",
       "      <th></th>\n",
       "      <th>id</th>\n",
       "      <th>text_en</th>\n",
       "    </tr>\n",
       "  </thead>\n",
       "  <tbody>\n",
       "    <tr>\n",
       "      <th>0</th>\n",
       "      <td>1</td>\n",
       "      <td>On Monday, scientists from the Stanford Univer...</td>\n",
       "    </tr>\n",
       "    <tr>\n",
       "      <th>1</th>\n",
       "      <td>2</td>\n",
       "      <td>Lead researchers say this may bring early dete...</td>\n",
       "    </tr>\n",
       "    <tr>\n",
       "      <th>2</th>\n",
       "      <td>3</td>\n",
       "      <td>The JAS 39C Gripen crashed onto a runway at ar...</td>\n",
       "    </tr>\n",
       "    <tr>\n",
       "      <th>3</th>\n",
       "      <td>4</td>\n",
       "      <td>The pilot was identified as Squadron Leader Di...</td>\n",
       "    </tr>\n",
       "    <tr>\n",
       "      <th>4</th>\n",
       "      <td>5</td>\n",
       "      <td>Local media reports an airport fire vehicle ro...</td>\n",
       "    </tr>\n",
       "  </tbody>\n",
       "</table>\n",
       "</div>"
      ],
      "text/plain": [
       "   id                                            text_en\n",
       "0   1  On Monday, scientists from the Stanford Univer...\n",
       "1   2  Lead researchers say this may bring early dete...\n",
       "2   3  The JAS 39C Gripen crashed onto a runway at ar...\n",
       "3   4  The pilot was identified as Squadron Leader Di...\n",
       "4   5  Local media reports an airport fire vehicle ro..."
      ]
     },
     "execution_count": 39,
     "metadata": {},
     "output_type": "execute_result"
    }
   ],
   "source": [
    "df_en.head()"
   ]
  },
  {
   "cell_type": "code",
   "execution_count": 40,
   "id": "f90f85ec-4764-4d95-8168-6a238912fea8",
   "metadata": {},
   "outputs": [
    {
     "data": {
      "text/plain": [
       "(1976, 2)"
      ]
     },
     "execution_count": 40,
     "metadata": {},
     "output_type": "execute_result"
    }
   ],
   "source": [
    "df_en.shape"
   ]
  },
  {
   "cell_type": "markdown",
   "id": "3caf2213-58bb-4fc6-b95a-56efc464b24c",
   "metadata": {},
   "source": [
    "### Merge the two Dataframe that has the same id"
   ]
  },
  {
   "cell_type": "code",
   "execution_count": null,
   "id": "0bff0090-84a8-49cd-a843-94833cca9da6",
   "metadata": {},
   "outputs": [],
   "source": []
  },
  {
   "cell_type": "code",
   "execution_count": 41,
   "id": "144a8e00-b97d-4959-ae44-192bbd72647b",
   "metadata": {},
   "outputs": [],
   "source": [
    "df_merge = pd.merge(df_id, df_en, how=\"left\", on=\"id\")"
   ]
  },
  {
   "cell_type": "code",
   "execution_count": 42,
   "id": "489bf1c3-6554-4db9-b95b-e4e31b9207b3",
   "metadata": {},
   "outputs": [
    {
     "data": {
      "text/html": [
       "<div>\n",
       "<style scoped>\n",
       "    .dataframe tbody tr th:only-of-type {\n",
       "        vertical-align: middle;\n",
       "    }\n",
       "\n",
       "    .dataframe tbody tr th {\n",
       "        vertical-align: top;\n",
       "    }\n",
       "\n",
       "    .dataframe thead th {\n",
       "        text-align: right;\n",
       "    }\n",
       "</style>\n",
       "<table border=\"1\" class=\"dataframe\">\n",
       "  <thead>\n",
       "    <tr style=\"text-align: right;\">\n",
       "      <th></th>\n",
       "      <th>id</th>\n",
       "      <th>audio</th>\n",
       "      <th>text_indo</th>\n",
       "      <th>text_en</th>\n",
       "    </tr>\n",
       "  </thead>\n",
       "  <tbody>\n",
       "    <tr>\n",
       "      <th>0</th>\n",
       "      <td>1</td>\n",
       "      <td>{'bytes': b'RIFF2\\x91\\x14\\x00WAVEfmt \\x12\\x00\\...</td>\n",
       "      <td>Ilmuwan dari Stanford University School of Med...</td>\n",
       "      <td>On Monday, scientists from the Stanford Univer...</td>\n",
       "    </tr>\n",
       "    <tr>\n",
       "      <th>1</th>\n",
       "      <td>2</td>\n",
       "      <td>{'bytes': b'RIFF2\\x7f\\x17\\x00WAVEfmt \\x12\\x00\\...</td>\n",
       "      <td>Ketua peneliti mengatakan bahwa diagnosis ini ...</td>\n",
       "      <td>Lead researchers say this may bring early dete...</td>\n",
       "    </tr>\n",
       "    <tr>\n",
       "      <th>2</th>\n",
       "      <td>2</td>\n",
       "      <td>{'bytes': b'RIFF2\\n\\x14\\x00WAVEfmt \\x12\\x00\\x0...</td>\n",
       "      <td>Ketua peneliti mengatakan bahwa diagnosis ini ...</td>\n",
       "      <td>Lead researchers say this may bring early dete...</td>\n",
       "    </tr>\n",
       "    <tr>\n",
       "      <th>3</th>\n",
       "      <td>2</td>\n",
       "      <td>{'bytes': b'RIFF2)\\x13\\x00WAVEfmt \\x12\\x00\\x00...</td>\n",
       "      <td>Ketua peneliti mengatakan bahwa diagnosis ini ...</td>\n",
       "      <td>Lead researchers say this may bring early dete...</td>\n",
       "    </tr>\n",
       "    <tr>\n",
       "      <th>4</th>\n",
       "      <td>3</td>\n",
       "      <td>{'bytes': b'RIFF2*\\x12\\x00WAVEfmt \\x12\\x00\\x00...</td>\n",
       "      <td>JAS 39C Gripen jatuh ke landasan pacu sekitar ...</td>\n",
       "      <td>The JAS 39C Gripen crashed onto a runway at ar...</td>\n",
       "    </tr>\n",
       "  </tbody>\n",
       "</table>\n",
       "</div>"
      ],
      "text/plain": [
       "   id                                              audio  \\\n",
       "0   1  {'bytes': b'RIFF2\\x91\\x14\\x00WAVEfmt \\x12\\x00\\...   \n",
       "1   2  {'bytes': b'RIFF2\\x7f\\x17\\x00WAVEfmt \\x12\\x00\\...   \n",
       "2   2  {'bytes': b'RIFF2\\n\\x14\\x00WAVEfmt \\x12\\x00\\x0...   \n",
       "3   2  {'bytes': b'RIFF2)\\x13\\x00WAVEfmt \\x12\\x00\\x00...   \n",
       "4   3  {'bytes': b'RIFF2*\\x12\\x00WAVEfmt \\x12\\x00\\x00...   \n",
       "\n",
       "                                           text_indo  \\\n",
       "0  Ilmuwan dari Stanford University School of Med...   \n",
       "1  Ketua peneliti mengatakan bahwa diagnosis ini ...   \n",
       "2  Ketua peneliti mengatakan bahwa diagnosis ini ...   \n",
       "3  Ketua peneliti mengatakan bahwa diagnosis ini ...   \n",
       "4  JAS 39C Gripen jatuh ke landasan pacu sekitar ...   \n",
       "\n",
       "                                             text_en  \n",
       "0  On Monday, scientists from the Stanford Univer...  \n",
       "1  Lead researchers say this may bring early dete...  \n",
       "2  Lead researchers say this may bring early dete...  \n",
       "3  Lead researchers say this may bring early dete...  \n",
       "4  The JAS 39C Gripen crashed onto a runway at ar...  "
      ]
     },
     "execution_count": 42,
     "metadata": {},
     "output_type": "execute_result"
    }
   ],
   "source": [
    "df_merge\n",
    "df_merge.head()"
   ]
  },
  {
   "cell_type": "code",
   "execution_count": 51,
   "id": "7bc3fb7a-9f64-4a5e-9a04-d393ab5fdfd5",
   "metadata": {},
   "outputs": [
    {
     "data": {
      "text/html": [
       "<div>\n",
       "<style scoped>\n",
       "    .dataframe tbody tr th:only-of-type {\n",
       "        vertical-align: middle;\n",
       "    }\n",
       "\n",
       "    .dataframe tbody tr th {\n",
       "        vertical-align: top;\n",
       "    }\n",
       "\n",
       "    .dataframe thead th {\n",
       "        text-align: right;\n",
       "    }\n",
       "</style>\n",
       "<table border=\"1\" class=\"dataframe\">\n",
       "  <thead>\n",
       "    <tr style=\"text-align: right;\">\n",
       "      <th></th>\n",
       "      <th>id</th>\n",
       "      <th>audio</th>\n",
       "      <th>text_indo</th>\n",
       "      <th>text_en</th>\n",
       "    </tr>\n",
       "  </thead>\n",
       "  <tbody>\n",
       "  </tbody>\n",
       "</table>\n",
       "</div>"
      ],
      "text/plain": [
       "Empty DataFrame\n",
       "Columns: [id, audio, text_indo, text_en]\n",
       "Index: []"
      ]
     },
     "execution_count": 51,
     "metadata": {},
     "output_type": "execute_result"
    }
   ],
   "source": [
    "# check whether there's a \"None\" value\n",
    "df_merge[(df_merge[\"text_indo\"] == None) | (df_merge[\"text_en\"] == None)]"
   ]
  },
  {
   "cell_type": "markdown",
   "id": "da62a410-26ee-465c-b5bf-604ef932591c",
   "metadata": {},
   "source": [
    "# Convert back to Dataset Object"
   ]
  },
  {
   "cell_type": "code",
   "execution_count": null,
   "id": "d0c170c2-6dcf-42c7-8625-fc38d2943353",
   "metadata": {},
   "outputs": [],
   "source": [
    "# Convert back to Dataset format\n",
    "merged_dataset = Dataset.from_pandas(df_merge)"
   ]
  },
  {
   "cell_type": "code",
   "execution_count": null,
   "id": "cdfd3a3b-0fe2-4db9-81ec-7484f286a61a",
   "metadata": {},
   "outputs": [],
   "source": [
    "merged_dataset"
   ]
  },
  {
   "cell_type": "code",
   "execution_count": null,
   "id": "ccdb8660-748f-4910-bb3b-1284134e7aee",
   "metadata": {
    "scrolled": true
   },
   "outputs": [],
   "source": [
    "# see the data format\n",
    "merged_dataset[1100][\"audio\"]"
   ]
  },
  {
   "cell_type": "code",
   "execution_count": 55,
   "id": "582875da-ea10-46b0-9b67-9f72f7898262",
   "metadata": {},
   "outputs": [],
   "source": [
    "# Re-cast the audio column from byte into Audio object\n",
    "merged_dataset = merged_dataset.cast_column(\"audio\", Audio(sampling_rate=16000))"
   ]
  },
  {
   "cell_type": "code",
   "execution_count": 56,
   "id": "95299771-4c09-4308-956a-308505cd7039",
   "metadata": {},
   "outputs": [
    {
     "data": {
      "text/plain": [
       "{'id': 44,\n",
       " 'audio': {'path': 'train/17063152554875437734.wav',\n",
       "  'array': array([ 0.        ,  0.        ,  0.        , ..., -0.00526178,\n",
       "         -0.00335544, -0.00391346]),\n",
       "  'sampling_rate': 16000},\n",
       " 'text_indo': 'Fred saat ini memiliki kecepatan angin 105 mil per jam (165 km/jam) dan bergerak menuju barat laut.',\n",
       " 'text_en': 'Fred currently has winds of 105 miles per hour (165 km/h) and is moving towards the northwest.'}"
      ]
     },
     "execution_count": 56,
     "metadata": {},
     "output_type": "execute_result"
    }
   ],
   "source": [
    "merged_dataset[100]"
   ]
  },
  {
   "cell_type": "markdown",
   "id": "a5bc006c-0b70-46ef-8a45-26eff14bacc4",
   "metadata": {},
   "source": [
    "### Split into train and val"
   ]
  },
  {
   "cell_type": "code",
   "execution_count": 57,
   "id": "3bcf93e2-799b-4ef3-bc71-d404d69eefa1",
   "metadata": {},
   "outputs": [],
   "source": [
    "dataset = merged_dataset.train_test_split(test_size=0.2)"
   ]
  },
  {
   "cell_type": "code",
   "execution_count": 58,
   "id": "1c8e8984-cbaa-4cf5-a689-15ecf734462a",
   "metadata": {},
   "outputs": [
    {
     "data": {
      "text/plain": [
       "{'id': 1803,\n",
       " 'audio': {'path': 'test/12396623553815830790.wav',\n",
       "  'array': array([ 0.00000000e+00,  5.96046448e-08, -5.96046448e-08, ...,\n",
       "          1.71566010e-03,  1.91479921e-03,  4.61918116e-03]),\n",
       "  'sampling_rate': 16000},\n",
       " 'text_indo': 'Kelembapan di tangan Anda akan bereaksi dengan lapisan luar, yang akan terasa lucu dan membentuk semacam cangkang.',\n",
       " 'text_en': 'The moisture on your hands will react with the outer layers, which will feel funny and form a sort of shell.'}"
      ]
     },
     "execution_count": 58,
     "metadata": {},
     "output_type": "execute_result"
    }
   ],
   "source": [
    "dataset[\"train\"][0]"
   ]
  },
  {
   "cell_type": "code",
   "execution_count": 59,
   "id": "f83708ec-6677-4202-ab12-b084ea89854c",
   "metadata": {},
   "outputs": [
    {
     "data": {
      "text/plain": [
       "{'id': 463,\n",
       " 'audio': {'path': 'train/16282931550754983202.wav',\n",
       "  'array': array([ 0.        ,  0.        ,  0.        , ..., -0.00059396,\n",
       "         -0.00049382, -0.00076425]),\n",
       "  'sampling_rate': 16000},\n",
       " 'text_indo': 'Hal ini dilakukan untuk memastikan gambar menutupi seluruh layar. Hal tersebut dinamakan overscan.',\n",
       " 'text_en': 'This is made to ensure that the image covers the whole screen. That is called overscan.'}"
      ]
     },
     "execution_count": 59,
     "metadata": {},
     "output_type": "execute_result"
    }
   ],
   "source": [
    "dataset[\"test\"][0]"
   ]
  },
  {
   "cell_type": "code",
   "execution_count": 60,
   "id": "f7adb108-8d6e-440f-bb3a-0d1754eb910f",
   "metadata": {},
   "outputs": [],
   "source": [
    "dataset= DatasetDict({\n",
    "    'train': dataset['train'],\n",
    "    'validation': dataset['test']})"
   ]
  },
  {
   "cell_type": "code",
   "execution_count": 61,
   "id": "9f9578bb-1694-4a14-b2df-a8953f3d8ec1",
   "metadata": {},
   "outputs": [
    {
     "data": {
      "text/plain": [
       "Dataset({\n",
       "    features: ['id', 'audio', 'text_indo', 'text_en'],\n",
       "    num_rows: 2892\n",
       "})"
      ]
     },
     "execution_count": 61,
     "metadata": {},
     "output_type": "execute_result"
    }
   ],
   "source": [
    "dataset[\"train\"]"
   ]
  },
  {
   "cell_type": "code",
   "execution_count": 62,
   "id": "ca4292ba-4b73-4ea8-8263-f5d661a4dee4",
   "metadata": {},
   "outputs": [
    {
     "data": {
      "text/plain": [
       "Dataset({\n",
       "    features: ['id', 'audio', 'text_indo', 'text_en'],\n",
       "    num_rows: 724\n",
       "})"
      ]
     },
     "execution_count": 62,
     "metadata": {},
     "output_type": "execute_result"
    }
   ],
   "source": [
    "dataset[\"validation\"]"
   ]
  },
  {
   "cell_type": "code",
   "execution_count": 63,
   "id": "40a93029-0314-4c5a-9678-b7ab1d4964f7",
   "metadata": {},
   "outputs": [
    {
     "data": {
      "application/vnd.jupyter.widget-view+json": {
       "model_id": "92284fab9dd64c8cb9ddde6707bfba1d",
       "version_major": 2,
       "version_minor": 0
      },
      "text/plain": [
       "Uploading the dataset shards:   0%|          | 0/5 [00:00<?, ?it/s]"
      ]
     },
     "metadata": {},
     "output_type": "display_data"
    },
    {
     "data": {
      "application/vnd.jupyter.widget-view+json": {
       "model_id": "2e55877e258e4a1e97eae28931294c8f",
       "version_major": 2,
       "version_minor": 0
      },
      "text/plain": [
       "Map:   0%|          | 0/579 [00:00<?, ? examples/s]"
      ]
     },
     "metadata": {},
     "output_type": "display_data"
    },
    {
     "data": {
      "application/vnd.jupyter.widget-view+json": {
       "model_id": "bc1a1060ebd644bd8b7f29b99a2d4d17",
       "version_major": 2,
       "version_minor": 0
      },
      "text/plain": [
       "Creating parquet from Arrow format:   0%|          | 0/6 [00:00<?, ?ba/s]"
      ]
     },
     "metadata": {},
     "output_type": "display_data"
    },
    {
     "data": {
      "application/vnd.jupyter.widget-view+json": {
       "model_id": "64c96bb7592a4109b95f82b5020b3f7b",
       "version_major": 2,
       "version_minor": 0
      },
      "text/plain": [
       "Map:   0%|          | 0/579 [00:00<?, ? examples/s]"
      ]
     },
     "metadata": {},
     "output_type": "display_data"
    },
    {
     "data": {
      "application/vnd.jupyter.widget-view+json": {
       "model_id": "4b1891dd512f4b1caeeeceee65352e47",
       "version_major": 2,
       "version_minor": 0
      },
      "text/plain": [
       "Creating parquet from Arrow format:   0%|          | 0/6 [00:00<?, ?ba/s]"
      ]
     },
     "metadata": {},
     "output_type": "display_data"
    },
    {
     "data": {
      "application/vnd.jupyter.widget-view+json": {
       "model_id": "4cd2de776caf47bd98c2457fa5dd89c6",
       "version_major": 2,
       "version_minor": 0
      },
      "text/plain": [
       "Map:   0%|          | 0/578 [00:00<?, ? examples/s]"
      ]
     },
     "metadata": {},
     "output_type": "display_data"
    },
    {
     "data": {
      "application/vnd.jupyter.widget-view+json": {
       "model_id": "20b8ed889b514b3b82ec50e674ac3780",
       "version_major": 2,
       "version_minor": 0
      },
      "text/plain": [
       "Creating parquet from Arrow format:   0%|          | 0/6 [00:00<?, ?ba/s]"
      ]
     },
     "metadata": {},
     "output_type": "display_data"
    },
    {
     "data": {
      "application/vnd.jupyter.widget-view+json": {
       "model_id": "8ca5cfe97545427c904c279279d2c763",
       "version_major": 2,
       "version_minor": 0
      },
      "text/plain": [
       "Map:   0%|          | 0/578 [00:00<?, ? examples/s]"
      ]
     },
     "metadata": {},
     "output_type": "display_data"
    },
    {
     "data": {
      "application/vnd.jupyter.widget-view+json": {
       "model_id": "dadd4cfdcab54eba92950ce0b52ede3c",
       "version_major": 2,
       "version_minor": 0
      },
      "text/plain": [
       "Creating parquet from Arrow format:   0%|          | 0/6 [00:00<?, ?ba/s]"
      ]
     },
     "metadata": {},
     "output_type": "display_data"
    },
    {
     "data": {
      "application/vnd.jupyter.widget-view+json": {
       "model_id": "bdbd68f16b3b42c1a03a3a9c64700a8c",
       "version_major": 2,
       "version_minor": 0
      },
      "text/plain": [
       "Map:   0%|          | 0/578 [00:00<?, ? examples/s]"
      ]
     },
     "metadata": {},
     "output_type": "display_data"
    },
    {
     "data": {
      "application/vnd.jupyter.widget-view+json": {
       "model_id": "94f08b25350f455dab2d94a62cf830ac",
       "version_major": 2,
       "version_minor": 0
      },
      "text/plain": [
       "Creating parquet from Arrow format:   0%|          | 0/6 [00:00<?, ?ba/s]"
      ]
     },
     "metadata": {},
     "output_type": "display_data"
    },
    {
     "data": {
      "application/vnd.jupyter.widget-view+json": {
       "model_id": "68a18b90761f44a4a168b19e4f3263ab",
       "version_major": 2,
       "version_minor": 0
      },
      "text/plain": [
       "Uploading the dataset shards:   0%|          | 0/2 [00:00<?, ?it/s]"
      ]
     },
     "metadata": {},
     "output_type": "display_data"
    },
    {
     "data": {
      "application/vnd.jupyter.widget-view+json": {
       "model_id": "0e0289f0cd4d477aa5a3a722e4bdc3d5",
       "version_major": 2,
       "version_minor": 0
      },
      "text/plain": [
       "Map:   0%|          | 0/362 [00:00<?, ? examples/s]"
      ]
     },
     "metadata": {},
     "output_type": "display_data"
    },
    {
     "data": {
      "application/vnd.jupyter.widget-view+json": {
       "model_id": "5e36b02070de4087a7a290b8416e5133",
       "version_major": 2,
       "version_minor": 0
      },
      "text/plain": [
       "Creating parquet from Arrow format:   0%|          | 0/4 [00:00<?, ?ba/s]"
      ]
     },
     "metadata": {},
     "output_type": "display_data"
    },
    {
     "data": {
      "application/vnd.jupyter.widget-view+json": {
       "model_id": "486eb3a334b7449099323a2f4b667142",
       "version_major": 2,
       "version_minor": 0
      },
      "text/plain": [
       "Map:   0%|          | 0/362 [00:00<?, ? examples/s]"
      ]
     },
     "metadata": {},
     "output_type": "display_data"
    },
    {
     "data": {
      "application/vnd.jupyter.widget-view+json": {
       "model_id": "8e2e0d48d42c4a15b10d1d4567d31b7e",
       "version_major": 2,
       "version_minor": 0
      },
      "text/plain": [
       "Creating parquet from Arrow format:   0%|          | 0/4 [00:00<?, ?ba/s]"
      ]
     },
     "metadata": {},
     "output_type": "display_data"
    },
    {
     "data": {
      "application/vnd.jupyter.widget-view+json": {
       "model_id": "8f54fbccb2d34752a9efacd81aefc775",
       "version_major": 2,
       "version_minor": 0
      },
      "text/plain": [
       "README.md:   0%|          | 0.00/2.04k [00:00<?, ?B/s]"
      ]
     },
     "metadata": {},
     "output_type": "display_data"
    },
    {
     "data": {
      "text/plain": [
       "CommitInfo(commit_url='https://huggingface.co/datasets/cobrayyxx/indo-eng_speech_translation_datasets/commit/827c9bf607da802e7a7aa327fd907bdffba6065f', commit_message='Upload dataset', commit_description='', oid='827c9bf607da802e7a7aa327fd907bdffba6065f', pr_url=None, repo_url=RepoUrl('https://huggingface.co/datasets/cobrayyxx/indo-eng_speech_translation_datasets', endpoint='https://huggingface.co', repo_type='dataset', repo_id='cobrayyxx/indo-eng_speech_translation_datasets'), pr_revision=None, pr_num=None)"
      ]
     },
     "execution_count": 63,
     "metadata": {},
     "output_type": "execute_result"
    }
   ],
   "source": [
    "dataset.push_to_hub(\"cobrayyxx/indo-eng_speech_translation_datasets\", private=False)"
   ]
  },
  {
   "cell_type": "code",
   "execution_count": null,
   "id": "113c5212-9405-46e2-8fb5-dea734559291",
   "metadata": {},
   "outputs": [],
   "source": []
  },
  {
   "cell_type": "code",
   "execution_count": null,
   "id": "5e26f0ae",
   "metadata": {},
   "outputs": [],
   "source": []
  },
  {
   "cell_type": "markdown",
   "id": "1b765657",
   "metadata": {},
   "source": [
    "# add total duration of audio"
   ]
  },
  {
   "cell_type": "code",
   "execution_count": 78,
   "id": "8e866d47-6e6f-4bb6-b058-5381ad54b763",
   "metadata": {},
   "outputs": [],
   "source": [
    "def get_dataset_duration(audio_dataset):\n",
    "    seconds=0\n",
    "    for audio in tqdm(audio_dataset, total=len(audio_dataset)):\n",
    "        audio_array = audio[\"array\"]\n",
    "        sampling_rate = audio[\"sampling_rate\"]\n",
    "        audio_duration = get_duration(y=audio_array, sr=sampling_rate)\n",
    "        seconds+=audio_duration\n",
    "\n",
    "    minutes, seconds = divmod(seconds, 60)\n",
    "    hours, minutes = divmod(minutes,60)\n",
    "    dataset_duration = f\"{hours:0.0f}:{minutes:0.0f}:{seconds:0.0f} \"\n",
    "    return dataset_duration"
   ]
  },
  {
   "cell_type": "code",
   "execution_count": 79,
   "id": "6a9951e1-5eee-439b-8272-e917ed827ae9",
   "metadata": {},
   "outputs": [
    {
     "data": {
      "application/vnd.jupyter.widget-view+json": {
       "model_id": "31e67e8129a84546bc0260a63e30956b",
       "version_major": 2,
       "version_minor": 0
      },
      "text/plain": [
       "  0%|          | 0/3616 [00:00<?, ?it/s]"
      ]
     },
     "metadata": {},
     "output_type": "display_data"
    }
   ],
   "source": [
    "total_duration = get_dataset_duration(merged_dataset[\"audio\"])"
   ]
  },
  {
   "cell_type": "code",
   "execution_count": 80,
   "id": "4d900bd4-5796-42fd-86e9-aa06b83f9489",
   "metadata": {},
   "outputs": [
    {
     "data": {
      "text/plain": [
       "'12:37:5 '"
      ]
     },
     "execution_count": 80,
     "metadata": {},
     "output_type": "execute_result"
    }
   ],
   "source": [
    "total_duration"
   ]
  },
  {
   "cell_type": "code",
   "execution_count": 77,
   "id": "12373138-d720-4736-a242-d54fe30e5328",
   "metadata": {},
   "outputs": [],
   "source": [
    "def get_dataset_duration(audio_dataset):\n",
    "  seconds = 0\n",
    "  for audio in tqdm(audio_dataset, total=len(audio_dataset)):\n",
    "    audio_array = audio[\"array\"]\n",
    "    sampling_rate = audio[\"sampling_rate\"]\n",
    "    audio_duration = get_duration(y=audio_array, sr=sampling_rate)\n",
    "    seconds += audio_duration\n",
    "\n",
    "  minutes, seconds = divmod(seconds, 60)\n",
    "  hours, minutes = divmod(minutes, 60)\n",
    "  dataset_duration = f\"{hours:0.0f}:{minutes:0.0f}:{seconds:0.0f}\"\n",
    "\n",
    "  return dataset_duration"
   ]
  },
  {
   "cell_type": "code",
   "execution_count": null,
   "id": "11148135-d0be-48cd-beb1-d8e1d0eb0730",
   "metadata": {},
   "outputs": [],
   "source": []
  }
 ],
 "metadata": {
  "kernelspec": {
   "display_name": "Python 3 (ipykernel)",
   "language": "python",
   "name": "python3"
  },
  "language_info": {
   "codemirror_mode": {
    "name": "ipython",
    "version": 3
   },
   "file_extension": ".py",
   "mimetype": "text/x-python",
   "name": "python",
   "nbconvert_exporter": "python",
   "pygments_lexer": "ipython3",
   "version": "3.12.3"
  }
 },
 "nbformat": 4,
 "nbformat_minor": 5
}
